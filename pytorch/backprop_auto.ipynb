{
 "cells": [
  {
   "cell_type": "markdown",
   "source": "backprop auto",
   "metadata": {
    "tags": [],
    "cell_id": "00000-d2656ece-4a32-408e-a36d-4be94142f926",
    "deepnote_cell_type": "markdown"
   }
  },
  {
   "cell_type": "code",
   "metadata": {
    "tags": [],
    "cell_id": "00001-79eda29c-1384-4e09-8af6-fbc9dc9fb5ea",
    "deepnote_to_be_reexecuted": false,
    "source_hash": "dd32fe6c",
    "execution_start": 1636297467984,
    "execution_millis": 2455,
    "deepnote_cell_type": "code"
   },
   "source": "import torch",
   "execution_count": null,
   "outputs": []
  },
  {
   "cell_type": "code",
   "metadata": {
    "tags": [],
    "cell_id": "00002-0d11b92c-f62d-4b92-b15a-83841dd5f488",
    "deepnote_to_be_reexecuted": false,
    "source_hash": "83a8b6d0",
    "execution_start": 1636297476246,
    "execution_millis": 17,
    "deepnote_cell_type": "code"
   },
   "source": "x = torch.tensor([1, 2, 3, 4], dtype=torch.float32)\ny = torch.tensor([2, 4, 6, 8], dtype=torch.float32)\nw = torch.tensor(0.0, requires_grad=True)",
   "execution_count": null,
   "outputs": []
  },
  {
   "cell_type": "code",
   "metadata": {
    "tags": [],
    "cell_id": "00004-e18a7e3c-50ba-4bbc-871e-c1a37320b6b2",
    "deepnote_to_be_reexecuted": false,
    "source_hash": "b4bf1cd4",
    "execution_start": 1636297477766,
    "execution_millis": 2,
    "deepnote_cell_type": "code"
   },
   "source": "def forward(x):\n    return x * w",
   "execution_count": null,
   "outputs": []
  },
  {
   "cell_type": "code",
   "metadata": {
    "tags": [],
    "cell_id": "00004-73acf46f-1670-4342-80e7-a13672e58a47",
    "deepnote_to_be_reexecuted": false,
    "source_hash": "a6c4ecbf",
    "execution_start": 1636297480124,
    "execution_millis": 7,
    "deepnote_cell_type": "code"
   },
   "source": "def loss_fn(y, y_pred):\n    return ((y - y_pred)**2).mean()",
   "execution_count": null,
   "outputs": []
  },
  {
   "cell_type": "code",
   "metadata": {
    "tags": [],
    "cell_id": "00005-ea651494-6425-45c2-b209-5d958274ad55",
    "deepnote_to_be_reexecuted": false,
    "source_hash": "76a4c807",
    "execution_start": 1636297486317,
    "execution_millis": 2,
    "deepnote_cell_type": "code"
   },
   "source": "n_iters = 100\nlr = 0.02",
   "execution_count": null,
   "outputs": []
  },
  {
   "cell_type": "code",
   "metadata": {
    "tags": [],
    "cell_id": "00006-6b923973-9141-46f2-8dc7-0bde718951a4",
    "deepnote_to_be_reexecuted": false,
    "source_hash": "e9154e5a",
    "execution_start": 1636297486571,
    "execution_millis": 44,
    "deepnote_cell_type": "code"
   },
   "source": "for i in range(n_iters):\n    y_pred = forward(x)\n    loss = loss_fn(y, y_pred)\n    loss.backward()\n\n    with torch.no_grad():\n        w -= lr*w.grad\n\n    w.grad.zero_()\n\n    if i % 10 == 0:\n         print(f'epoch {i+1} = prediction{y_pred} weight {w:.3f} loss {loss:.8f}') \n    ",
   "execution_count": null,
   "outputs": [
    {
     "name": "stdout",
     "text": "epoch 1 = predictiontensor([0., 0., 0., 0.], grad_fn=<MulBackward0>) weight 0.600 loss 30.00000000\nepoch 11 = predictiontensor([1.9435, 3.8870, 5.8305, 7.7740], grad_fn=<MulBackward0>) weight 1.960 loss 0.02393769\nepoch 21 = predictiontensor([1.9984, 3.9968, 5.9952, 7.9936], grad_fn=<MulBackward0>) weight 1.999 loss 0.00001910\nepoch 31 = predictiontensor([2.0000, 3.9999, 5.9999, 7.9998], grad_fn=<MulBackward0>) weight 2.000 loss 0.00000002\nepoch 41 = predictiontensor([2.0000, 4.0000, 6.0000, 8.0000], grad_fn=<MulBackward0>) weight 2.000 loss 0.00000000\nepoch 51 = predictiontensor([2.0000, 4.0000, 6.0000, 8.0000], grad_fn=<MulBackward0>) weight 2.000 loss 0.00000000\nepoch 61 = predictiontensor([2.0000, 4.0000, 6.0000, 8.0000], grad_fn=<MulBackward0>) weight 2.000 loss 0.00000000\nepoch 71 = predictiontensor([2.0000, 4.0000, 6.0000, 8.0000], grad_fn=<MulBackward0>) weight 2.000 loss 0.00000000\nepoch 81 = predictiontensor([2.0000, 4.0000, 6.0000, 8.0000], grad_fn=<MulBackward0>) weight 2.000 loss 0.00000000\nepoch 91 = predictiontensor([2.0000, 4.0000, 6.0000, 8.0000], grad_fn=<MulBackward0>) weight 2.000 loss 0.00000000\n",
     "output_type": "stream"
    }
   ]
  },
  {
   "cell_type": "code",
   "metadata": {
    "tags": [],
    "cell_id": "00007-73fb935a-6af6-4d13-a840-235fef76e74f",
    "deepnote_to_be_reexecuted": false,
    "source_hash": "28ab1d28",
    "execution_start": 1636297487281,
    "execution_millis": 3,
    "deepnote_cell_type": "code"
   },
   "source": "forward(2)",
   "execution_count": null,
   "outputs": [
    {
     "output_type": "execute_result",
     "execution_count": 7,
     "data": {
      "text/plain": "tensor(4.0000, grad_fn=<MulBackward0>)"
     },
     "metadata": {}
    }
   ]
  },
  {
   "cell_type": "code",
   "metadata": {
    "tags": [],
    "cell_id": "00008-e9eb3e31-5d42-4602-93a4-2cda472f0f9c",
    "deepnote_to_be_reexecuted": false,
    "source_hash": "b623e53d",
    "execution_start": 1636297487285,
    "execution_millis": 0,
    "deepnote_cell_type": "code"
   },
   "source": "",
   "execution_count": null,
   "outputs": []
  },
  {
   "cell_type": "code",
   "metadata": {
    "tags": [],
    "cell_id": "00009-dd02ed61-c7b5-4dc4-94d8-15c2fc8af826",
    "deepnote_cell_type": "code"
   },
   "source": "",
   "execution_count": null,
   "outputs": []
  },
  {
   "cell_type": "markdown",
   "source": "<a style='text-decoration:none;line-height:16px;display:flex;color:#5B5B62;padding:10px;justify-content:end;' href='https://deepnote.com?utm_source=created-in-deepnote-cell&projectId=95fccd86-d9c7-402f-a93f-d5e23e9bc087' target=\"_blank\">\n<img alt='Created in deepnote.com' style='display:inline;max-height:16px;margin:0px;margin-right:7.5px;' src='data:image/svg+xml;base64,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' > </img>\nCreated in <span style='font-weight:600;margin-left:4px;'>Deepnote</span></a>",
   "metadata": {
    "tags": [],
    "created_in_deepnote_cell": true,
    "deepnote_cell_type": "markdown"
   }
  }
 ],
 "nbformat": 4,
 "nbformat_minor": 2,
 "metadata": {
  "orig_nbformat": 2,
  "deepnote": {
   "is_reactive": false
  },
  "deepnote_notebook_id": "56432ef6-9e03-47dc-ae75-1bd3346ac0b6",
  "deepnote_execution_queue": []
 }
}