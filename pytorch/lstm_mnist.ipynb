{
 "cells": [
  {
   "cell_type": "code",
   "execution_count": 6,
   "metadata": {},
   "outputs": [],
   "source": [
    "import torch\n",
    "import torch.nn as nn\n",
    "from torch.utils.data import DataLoader\n",
    "from torchvision.datasets import MNIST\n",
    "from torchvision.transforms import ToTensor\n",
    "import matplotlib.pyplot as plt\n",
    "import os"
   ]
  },
  {
   "cell_type": "code",
   "execution_count": 2,
   "metadata": {},
   "outputs": [],
   "source": [
    "LR = 0.02\n",
    "EPOSCH = 5\n",
    "DOWNLOAD_MNIST = False\n",
    "BATCH_SIZE = 50"
   ]
  },
  {
   "cell_type": "code",
   "execution_count": 3,
   "metadata": {},
   "outputs": [],
   "source": [
    "if not os.path.exists('./data') or not os.listdir('./data'):\n",
    "    DOWNLOAD_MNIST = True"
   ]
  },
  {
   "cell_type": "code",
   "execution_count": 5,
   "metadata": {},
   "outputs": [],
   "source": [
    "train_data = MNIST(\n",
    "    root=\"data\",\n",
    "    train=True,\n",
    "    download=DOWNLOAD_MNIST,\n",
    "    transform=ToTensor(),\n",
    ")\n",
    "\n",
    "test_data = MNIST(\n",
    "    root=\"data\",\n",
    "    train=False,\n",
    "    download=DOWNLOAD_MNIST,\n",
    "    transform=ToTensor(),\n",
    ")"
   ]
  },
  {
   "cell_type": "code",
   "execution_count": 7,
   "metadata": {},
   "outputs": [],
   "source": [
    "train_loader = DataLoader(\n",
    "    train_data, batch_size=BATCH_SIZE)\n",
    "\n",
    "test_loader = DataLoader(\n",
    "    test_data,batch_size=BATCH_SIZE\n",
    ")"
   ]
  },
  {
   "cell_type": "code",
   "execution_count": 13,
   "metadata": {},
   "outputs": [
    {
     "name": "stdout",
     "output_type": "stream",
     "text": [
      "torch.Size([50, 1, 28, 28]) torch.Size([50])\n",
      "torch.Size([50, 1, 28, 28]) torch.Size([50])\n"
     ]
    }
   ],
   "source": [
    "for test, train in zip(train_loader, test_loader):\n",
    "    x0, y0 = test\n",
    "    x1, y1 = train\n",
    "    print(x0.shape, y0.shape)\n",
    "    print(x1.shape, y1.shape)\n",
    "    break"
   ]
  },
  {
   "cell_type": "code",
   "execution_count": 20,
   "metadata": {},
   "outputs": [],
   "source": [
    "class Net(nn.Module):\n",
    "    def __init__(self):\n",
    "        super(Net, self).__init__()\n",
    "        self.lstm = nn.LSTM(\n",
    "            input_size=28,\n",
    "            hidden_size=64,\n",
    "            num_layers=1,\n",
    "            batch_first=True,\n",
    "        )\n",
    "        self.out = nn.Linear(64, 10)\n",
    "    def forward(self, x):\n",
    "        out, (x_, y_) = self.lstm(x, None)\n",
    "        output = self.out(out[:, -1, :])\n",
    "        return output"
   ]
  },
  {
   "cell_type": "code",
   "execution_count": 21,
   "metadata": {},
   "outputs": [
    {
     "name": "stdout",
     "output_type": "stream",
     "text": [
      "Net(\n",
      "  (lstm): LSTM(28, 64, batch_first=True)\n",
      "  (out): Linear(in_features=64, out_features=10, bias=True)\n",
      ")\n"
     ]
    }
   ],
   "source": [
    "lstm = Net()\n",
    "print(lstm)"
   ]
  },
  {
   "cell_type": "code",
   "execution_count": 22,
   "metadata": {},
   "outputs": [],
   "source": [
    "optim = torch.optim.Adam(lstm.parameters(), lr=LR)\n",
    "loss_fn = torch.nn.CrossEntropyLoss()"
   ]
  },
  {
   "cell_type": "code",
   "execution_count": 23,
   "metadata": {},
   "outputs": [],
   "source": [
    "def train(dataloader, model, loss_fn, optim):\n",
    "    size = len(dataloader.dataset)\n",
    "    model.train()\n",
    "    for step, (x, y) in enumerate(dataloader):\n",
    "        x = x.view(-1, 28, 28)\n",
    "        y_pred = model(x)\n",
    "        loss = loss_fn(y_pred, y)\n",
    "        optim.zero_grad()\n",
    "        loss.backward()\n",
    "        optim.step()\n",
    "\n",
    "        if step % 100 == 0:\n",
    "            loss, current = loss.item(), step * len(x)\n",
    "            print( f'loss {loss:>7f} {current:>5d}/{size:>5d}')\n",
    "\n"
   ]
  },
  {
   "cell_type": "code",
   "execution_count": 24,
   "metadata": {},
   "outputs": [],
   "source": [
    "def test(dataloader, model, loss_fn):\n",
    "    size = len(dataloader.dataset)\n",
    "    num_batches = len(dataloader)\n",
    "    model.eval()\n",
    "    test_loss, correct = 0, 0\n",
    "    with torch.no_grad():\n",
    "        for x,y in dataloader:\n",
    "            x = x.view(-1, 28, 28)\n",
    "            y_pred = model(x)\n",
    "            test_loss += loss_fn(y_pred, y).item()\n",
    "            correct += (y_pred.argmax(1) == y).type(torch.float).sum().item()\n",
    "        test_loss /= num_batches\n",
    "        correct /= size\n",
    "        print(f'test error \\n acc {(100*correct):>0.1f}% avg_loss {test_loss:>8f} \\n')\n"
   ]
  },
  {
   "cell_type": "code",
   "execution_count": 25,
   "metadata": {},
   "outputs": [
    {
     "name": "stdout",
     "output_type": "stream",
     "text": [
      "EPOSCH 1\n",
      "loss 2.298739     0/60000\n",
      "loss 0.659461  5000/60000\n",
      "loss 0.714092 10000/60000\n",
      "loss 0.293851 15000/60000\n",
      "loss 0.531091 20000/60000\n",
      "loss 0.148773 25000/60000\n",
      "loss 0.067063 30000/60000\n",
      "loss 0.366107 35000/60000\n",
      "loss 0.144693 40000/60000\n",
      "loss 0.362255 45000/60000\n",
      "loss 0.050549 50000/60000\n",
      "loss 0.182360 55000/60000\n",
      "test error \n",
      " acc 90.3% avg_loss 0.320079 \n",
      "\n",
      "EPOSCH 2\n",
      "loss 0.235053     0/60000\n",
      "loss 0.197910  5000/60000\n",
      "loss 0.439672 10000/60000\n",
      "loss 0.055559 15000/60000\n",
      "loss 0.246277 20000/60000\n",
      "loss 0.163662 25000/60000\n",
      "loss 0.166643 30000/60000\n",
      "loss 0.359554 35000/60000\n",
      "loss 0.145785 40000/60000\n",
      "loss 0.404661 45000/60000\n",
      "loss 0.030922 50000/60000\n",
      "loss 0.082342 55000/60000\n",
      "test error \n",
      " acc 93.3% avg_loss 0.220855 \n",
      "\n",
      "EPOSCH 3\n",
      "loss 0.243030     0/60000\n",
      "loss 0.193756  5000/60000\n",
      "loss 0.378277 10000/60000\n",
      "loss 0.018919 15000/60000\n",
      "loss 0.348544 20000/60000\n",
      "loss 0.069202 25000/60000\n",
      "loss 0.604330 30000/60000\n",
      "loss 0.630688 35000/60000\n",
      "loss 0.461461 40000/60000\n",
      "loss 1.069266 45000/60000\n",
      "loss 0.483957 50000/60000\n",
      "loss 0.640412 55000/60000\n",
      "test error \n",
      " acc 79.3% avg_loss 0.655593 \n",
      "\n",
      "EPOSCH 4\n",
      "loss 0.959859     0/60000\n",
      "loss 0.517159  5000/60000\n",
      "loss 0.621037 10000/60000\n",
      "loss 0.311786 15000/60000\n",
      "loss 0.485257 20000/60000\n",
      "loss 0.245740 25000/60000\n",
      "loss 0.351236 30000/60000\n",
      "loss 0.161673 35000/60000\n",
      "loss 0.239646 40000/60000\n",
      "loss 0.319576 45000/60000\n",
      "loss 0.197798 50000/60000\n",
      "loss 0.290427 55000/60000\n",
      "test error \n",
      " acc 88.0% avg_loss 0.398550 \n",
      "\n",
      "EPOSCH 5\n",
      "loss 0.440694     0/60000\n",
      "loss 0.364670  5000/60000\n",
      "loss 0.366336 10000/60000\n",
      "loss 0.219934 15000/60000\n",
      "loss 0.580984 20000/60000\n",
      "loss 0.955810 25000/60000\n",
      "loss 0.648315 30000/60000\n",
      "loss 0.514864 35000/60000\n",
      "loss 0.408027 40000/60000\n",
      "loss 0.881756 45000/60000\n",
      "loss 0.337457 50000/60000\n",
      "loss 0.250746 55000/60000\n",
      "test error \n",
      " acc 87.1% avg_loss 0.410524 \n",
      "\n"
     ]
    }
   ],
   "source": [
    "for i in range(EPOSCH):\n",
    "    print(f'EPOSCH {i+1}')\n",
    "    train(train_loader, lstm, loss_fn, optim)\n",
    "    test(test_loader, lstm, loss_fn)"
   ]
  },
  {
   "cell_type": "code",
   "execution_count": 28,
   "metadata": {},
   "outputs": [
    {
     "name": "stdout",
     "output_type": "stream",
     "text": [
      "5 tensor(5)\n"
     ]
    },
    {
     "data": {
      "image/png": "[encoded data removed]",
      "text/plain": [
       "<Figure size 432x288 with 1 Axes>"
      ]
     },
     "metadata": {
      "needs_background": "light"
     },
     "output_type": "display_data"
    }
   ],
   "source": [
    "testx, testy = test_data[15][0], test_data[15][1]\n",
    "\n",
    "np_testx = testx[0].numpy()\n",
    "plt.imshow(np_testx)\n",
    "# testx = x.view(-1, 28, 28)\n",
    "test_pred_y = lstm(testx)\n",
    "argmax_pred_y = torch.argmax(test_pred_y)\n",
    "print(testy, argmax_pred_y)"
   ]
  },
  {
   "cell_type": "code",
   "execution_count": null,
   "metadata": {},
   "outputs": [],
   "source": []
  }
 ],
 "metadata": {
  "interpreter": {
   "hash": "36cf16204b8548560b1c020c4e8fb5b57f0e4c58016f52f2d4be01e192833930"
  },
  "kernelspec": {
   "display_name": "Python 3.9.0 64-bit",
   "language": "python",
   "name": "python3"
  },
  "language_info": {
   "codemirror_mode": {
    "name": "ipython",
    "version": 3
   },
   "file_extension": ".py",
   "mimetype": "text/x-python",
   "name": "python",
   "nbconvert_exporter": "python",
   "pygments_lexer": "ipython3",
   "version": "3.9.0+"
  },
  "orig_nbformat": 4
 },
 "nbformat": 4,
 "nbformat_minor": 2
}
