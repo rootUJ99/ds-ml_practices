{
 "cells": [
  {
   "cell_type": "code",
   "execution_count": 15,
   "metadata": {},
   "outputs": [],
   "source": [
    "import torch \n",
    "import torch.nn as nn\n",
    "from torch.utils.data import DataLoader\n",
    "from torchvision import datasets\n",
    "from torchvision.transforms import ToTensor, Lambda, Compose\n",
    "import matplotlib.pyplot as plt\n",
    "import os\n"
   ]
  },
  {
   "cell_type": "code",
   "execution_count": 16,
   "metadata": {},
   "outputs": [],
   "source": [
    "EPOCH = 6\n",
    "LR = 0.02\n",
    "DOWNLOAD_MNIST = False\n",
    "BATCH_SIZE = 50"
   ]
  },
  {
   "cell_type": "code",
   "execution_count": 17,
   "metadata": {},
   "outputs": [],
   "source": [
    "if not os.path.exists('./data') or not os.listdir('./data'):\n",
    "    DOWNLOAD_MNIST = True"
   ]
  },
  {
   "cell_type": "code",
   "execution_count": 18,
   "metadata": {},
   "outputs": [],
   "source": [
    "train_data = datasets.MNIST(\n",
    "    root=\"data\",\n",
    "    train=True,\n",
    "    download=DOWNLOAD_MNIST,\n",
    "    transform=ToTensor()\n",
    ")"
   ]
  },
  {
   "cell_type": "code",
   "execution_count": 19,
   "metadata": {},
   "outputs": [],
   "source": [
    "test_data = datasets.MNIST(\n",
    "    root=\"data\",\n",
    "    train=True,\n",
    "    download=DOWNLOAD_MNIST,\n",
    "    transform=ToTensor()\n",
    ")"
   ]
  },
  {
   "cell_type": "code",
   "execution_count": 20,
   "metadata": {},
   "outputs": [
    {
     "name": "stdout",
     "output_type": "stream",
     "text": [
      "torch.Size([50, 1, 28, 28]) torch.Size([50])\n"
     ]
    }
   ],
   "source": [
    "train_loader = DataLoader(train_data, batch_size=BATCH_SIZE)\n",
    "test_loader = DataLoader(test_data, batch_size=BATCH_SIZE)\n",
    "\n",
    "for x, y in test_loader:\n",
    "    print(x.shape, y.shape)\n",
    "    break"
   ]
  },
  {
   "cell_type": "code",
   "execution_count": 21,
   "metadata": {},
   "outputs": [],
   "source": [
    "class Net(nn.Module):\n",
    "    def __init__(self):\n",
    "        super(Net, self).__init__()\n",
    "        self.conv1 = nn.Sequential(\n",
    "            nn.Conv2d(\n",
    "                in_channels=1,\n",
    "                out_channels=16,\n",
    "                kernel_size=5,\n",
    "                stride=1,\n",
    "                padding=2,\n",
    "            ),\n",
    "            nn.ReLU(),\n",
    "            nn.MaxPool2d(kernel_size=2),\n",
    "        )\n",
    "        self.conv2 = nn.Sequential(\n",
    "            nn.Conv2d(16, 32, 5, 1, 2),\n",
    "            nn.ReLU(),\n",
    "            nn.MaxPool2d(2),\n",
    "        )\n",
    "        self.out = nn.Linear(32 * 7 * 7, 10)\n",
    "    def forward(self, x):\n",
    "        x = self.conv1(x)\n",
    "        x = self.conv2(x)\n",
    "        x = x.view(x.size(0), -1)\n",
    "        output = self.out(x)\n",
    "        return output\n",
    "        \n",
    "\n"
   ]
  },
  {
   "cell_type": "code",
   "execution_count": 22,
   "metadata": {},
   "outputs": [],
   "source": [
    "cnn = Net()"
   ]
  },
  {
   "cell_type": "code",
   "execution_count": 44,
   "metadata": {},
   "outputs": [],
   "source": [
    "loss_fn = nn.CrossEntropyLoss()\n",
    "optim = torch.optim.Adam(cnn.parameters(), lr=LR)"
   ]
  },
  {
   "cell_type": "code",
   "execution_count": 45,
   "metadata": {},
   "outputs": [],
   "source": [
    "def train(dataloader, model, loss_fn, optim):\n",
    "    size = len(dataloader.dataset)\n",
    "    model.train()\n",
    "    for step, (x, y) in enumerate(dataloader):\n",
    "        y_pred = model(x)\n",
    "        loss = loss_fn(y_pred, y)\n",
    "        optim.zero_grad()\n",
    "        loss.backward()\n",
    "        optim.step()\n",
    "\n",
    "        if step % 100 == 0:\n",
    "            loss, current = loss.item(), step * len(x)\n",
    "            print( f'loss {loss:>7f} {current:>5d}/{size:>5d}')\n",
    "\n",
    "\n"
   ]
  },
  {
   "cell_type": "code",
   "execution_count": 46,
   "metadata": {},
   "outputs": [],
   "source": [
    "def test(dataloader, model, loss_fn):\n",
    "    size = len(dataloader.dataset)\n",
    "    num_batches = len(dataloader)\n",
    "    model.eval()\n",
    "    test_loss, correct = 0, 0\n",
    "    with torch.no_grad():\n",
    "        for x,y in dataloader:\n",
    "            y_pred = model(x)\n",
    "            test_loss += loss_fn(y_pred, y).item()\n",
    "            correct += (y_pred.argmax(1) == y).type(torch.float).sum().item()\n",
    "        test_loss /= num_batches\n",
    "        correct /= size\n",
    "        print(f'test error \\n acc {(100*correct):>0.1f}% avg_loss {test_loss:>8f} \\n')"
   ]
  },
  {
   "cell_type": "code",
   "execution_count": 47,
   "metadata": {},
   "outputs": [
    {
     "name": "stdout",
     "output_type": "stream",
     "text": [
      "EPOCH 1\n",
      "loss 0.027479     0/60000\n",
      "loss 0.195350  5000/60000\n",
      "loss 0.376106 10000/60000\n",
      "loss 0.051851 15000/60000\n",
      "loss 0.149481 20000/60000\n",
      "loss 0.022614 25000/60000\n",
      "loss 0.218096 30000/60000\n",
      "loss 0.068699 35000/60000\n",
      "loss 0.057146 40000/60000\n",
      "loss 0.198671 45000/60000\n",
      "loss 0.089647 50000/60000\n",
      "loss 0.090564 55000/60000\n",
      "test error \n",
      " acc 93.4% avg_loss 0.217397 \n",
      "\n",
      "EPOCH 2\n",
      "loss 0.151527     0/60000\n",
      "loss 0.093900  5000/60000\n",
      "loss 0.046402 10000/60000\n",
      "loss 0.074690 15000/60000\n",
      "loss 0.145580 20000/60000\n",
      "loss 0.060276 25000/60000\n",
      "loss 0.225895 30000/60000\n",
      "loss 0.034228 35000/60000\n",
      "loss 0.097316 40000/60000\n",
      "loss 0.077590 45000/60000\n",
      "loss 0.074218 50000/60000\n",
      "loss 0.006227 55000/60000\n",
      "test error \n",
      " acc 95.6% avg_loss 0.154161 \n",
      "\n",
      "EPOCH 3\n",
      "loss 0.055050     0/60000\n",
      "loss 0.239967  5000/60000\n",
      "loss 0.131264 10000/60000\n",
      "loss 0.015928 15000/60000\n",
      "loss 0.185576 20000/60000\n",
      "loss 0.193463 25000/60000\n",
      "loss 0.228345 30000/60000\n",
      "loss 0.101660 35000/60000\n",
      "loss 0.131939 40000/60000\n",
      "loss 0.126015 45000/60000\n",
      "loss 0.216362 50000/60000\n",
      "loss 0.117538 55000/60000\n",
      "test error \n",
      " acc 93.1% avg_loss 0.251246 \n",
      "\n",
      "EPOCH 4\n",
      "loss 0.145530     0/60000\n",
      "loss 0.118416  5000/60000\n",
      "loss 0.085993 10000/60000\n",
      "loss 0.018143 15000/60000\n",
      "loss 0.155718 20000/60000\n",
      "loss 0.009544 25000/60000\n",
      "loss 0.239220 30000/60000\n",
      "loss 0.162575 35000/60000\n",
      "loss 0.076582 40000/60000\n",
      "loss 0.037666 45000/60000\n",
      "loss 0.033333 50000/60000\n",
      "loss 0.015781 55000/60000\n",
      "test error \n",
      " acc 97.3% avg_loss 0.093617 \n",
      "\n",
      "EPOCH 5\n",
      "loss 0.023473     0/60000\n",
      "loss 0.099794  5000/60000\n",
      "loss 0.146567 10000/60000\n",
      "loss 0.002224 15000/60000\n",
      "loss 0.228023 20000/60000\n",
      "loss 0.053524 25000/60000\n",
      "loss 0.275270 30000/60000\n",
      "loss 0.050087 35000/60000\n",
      "loss 0.130716 40000/60000\n",
      "loss 0.201419 45000/60000\n",
      "loss 0.061942 50000/60000\n",
      "loss 0.002094 55000/60000\n",
      "test error \n",
      " acc 97.3% avg_loss 0.103423 \n",
      "\n",
      "EPOCH 6\n",
      "loss 0.021009     0/60000\n",
      "loss 0.166898  5000/60000\n",
      "loss 0.217057 10000/60000\n",
      "loss 0.008193 15000/60000\n",
      "loss 0.220646 20000/60000\n",
      "loss 0.032344 25000/60000\n",
      "loss 0.342290 30000/60000\n",
      "loss 0.087738 35000/60000\n",
      "loss 0.067787 40000/60000\n",
      "loss 0.098966 45000/60000\n",
      "loss 0.012187 50000/60000\n",
      "loss 0.019123 55000/60000\n",
      "test error \n",
      " acc 96.1% avg_loss 0.145738 \n",
      "\n"
     ]
    }
   ],
   "source": [
    "for i in range(EPOCH):\n",
    "    print(f'EPOCH {i+1}')\n",
    "    train(train_loader, cnn, loss_fn, optim)\n",
    "    test(test_loader, cnn, loss_fn)"
   ]
  },
  {
   "cell_type": "code",
   "execution_count": 49,
   "metadata": {},
   "outputs": [
    {
     "name": "stdout",
     "output_type": "stream",
     "text": [
      "0 tensor(0)\n"
     ]
    },
    {
     "data": {
      "image/png": "[encoded data removed]",
      "text/plain": [
       "<Figure size 432x288 with 1 Axes>"
      ]
     },
     "metadata": {
      "needs_background": "light"
     },
     "output_type": "display_data"
    }
   ],
   "source": [
    "testx, testy = test_data[1][0], test_data[1][1]\n",
    "\n",
    "np_testx = testx[0].numpy()\n",
    "plt.imshow(np_testx)\n",
    "test_pred_y = cnn(testx[None,...])\n",
    "argmax_pred_y = torch.argmax(test_pred_y)\n",
    "print(testy, argmax_pred_y)"
   ]
  },
  {
   "cell_type": "code",
   "execution_count": null,
   "metadata": {},
   "outputs": [],
   "source": []
  }
 ],
 "metadata": {
  "interpreter": {
   "hash": "36cf16204b8548560b1c020c4e8fb5b57f0e4c58016f52f2d4be01e192833930"
  },
  "kernelspec": {
   "display_name": "Python 3.9.0 64-bit",
   "name": "python3"
  },
  "language_info": {
   "codemirror_mode": {
    "name": "ipython",
    "version": 3
   },
   "file_extension": ".py",
   "mimetype": "text/x-python",
   "name": "python",
   "nbconvert_exporter": "python",
   "pygments_lexer": "ipython3",
   "version": "3.9.0+"
  },
  "orig_nbformat": 4
 },
 "nbformat": 4,
 "nbformat_minor": 2
}
