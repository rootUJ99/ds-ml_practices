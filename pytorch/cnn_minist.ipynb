{
 "cells": [
  {
   "cell_type": "code",
   "execution_count": 1,
   "metadata": {},
   "outputs": [],
   "source": [
    "import torch \n",
    "import torch.nn as nn\n",
    "from torch.utils.data import DataLoader\n",
    "from torchvision import datasets\n",
    "from torchvision.transforms import ToTensor, Lambda, Compose\n",
    "import matplotlib.pyplot as plt\n",
    "import os\n"
   ]
  },
  {
   "cell_type": "code",
   "execution_count": 2,
   "metadata": {},
   "outputs": [],
   "source": [
    "EPOCH = 6\n",
    "LR = 0.02\n",
    "DOWNLOAD_MNIST = False\n",
    "BATCH_SIZE = 50"
   ]
  },
  {
   "cell_type": "code",
   "execution_count": 3,
   "metadata": {},
   "outputs": [],
   "source": [
    "if not os.path.exists('./data') or not os.listdir('./data'):\n",
    "    DOWNLOAD_MNIST = True"
   ]
  },
  {
   "cell_type": "code",
   "execution_count": 4,
   "metadata": {},
   "outputs": [],
   "source": [
    "train_data = datasets.MNIST(\n",
    "    root=\"data\",\n",
    "    train=True,\n",
    "    download=DOWNLOAD_MNIST,\n",
    "    transform=ToTensor()\n",
    ")"
   ]
  },
  {
   "cell_type": "code",
   "execution_count": 5,
   "metadata": {},
   "outputs": [],
   "source": [
    "test_data = datasets.MNIST(\n",
    "    root=\"data\",\n",
    "    train=True,\n",
    "    download=DOWNLOAD_MNIST,\n",
    "    transform=ToTensor()\n",
    ")"
   ]
  },
  {
   "cell_type": "code",
   "execution_count": 6,
   "metadata": {},
   "outputs": [
    {
     "name": "stdout",
     "output_type": "stream",
     "text": [
      "torch.Size([50, 1, 28, 28]) torch.Size([50])\n"
     ]
    }
   ],
   "source": [
    "train_loader = DataLoader(train_data, batch_size=BATCH_SIZE)\n",
    "test_loader = DataLoader(test_data, batch_size=BATCH_SIZE)\n",
    "\n",
    "for x, y in test_loader:\n",
    "    print(x.shape, y.shape)\n",
    "    break"
   ]
  },
  {
   "cell_type": "code",
   "execution_count": 7,
   "metadata": {},
   "outputs": [],
   "source": [
    "class Net(nn.Module):\n",
    "    def __init__(self):\n",
    "        super(Net, self).__init__()\n",
    "        self.conv1 = nn.Sequential(\n",
    "            nn.Conv2d(\n",
    "                in_channels=1,\n",
    "                out_channels=16,\n",
    "                kernel_size=5,\n",
    "                stride=1,\n",
    "                padding=2,\n",
    "            ),\n",
    "            nn.ReLU(),\n",
    "            nn.MaxPool2d(kernel_size=2),\n",
    "        )\n",
    "        self.conv2 = nn.Sequential(\n",
    "            nn.Conv2d(16, 32, 5, 1, 2),\n",
    "            nn.ReLU(),\n",
    "            nn.MaxPool2d(2),\n",
    "        )\n",
    "        self.out = nn.Linear(32 * 7 * 7, 10)\n",
    "    def forward(self, x):\n",
    "        x = self.conv1(x)\n",
    "        x = self.conv2(x)\n",
    "        x = x.view(x.size(0), -1)\n",
    "        output = self.out(x)\n",
    "        return output\n",
    "        \n",
    "\n"
   ]
  },
  {
   "cell_type": "code",
   "execution_count": 8,
   "metadata": {},
   "outputs": [],
   "source": [
    "cnn = Net()"
   ]
  },
  {
   "cell_type": "code",
   "execution_count": 9,
   "metadata": {},
   "outputs": [],
   "source": [
    "loss_fn = nn.CrossEntropyLoss()\n",
    "optim = torch.optim.Adam(cnn.parameters(), lr=LR)"
   ]
  },
  {
   "cell_type": "code",
   "execution_count": 10,
   "metadata": {},
   "outputs": [],
   "source": [
    "def train(dataloader, model, loss_fn, optim):\n",
    "    size = len(dataloader.dataset)\n",
    "    model.train()\n",
    "    for step, (x, y) in enumerate(dataloader):\n",
    "        y_pred = model(x)\n",
    "        loss = loss_fn(y_pred, y)\n",
    "        optim.zero_grad()\n",
    "        loss.backward()\n",
    "        optim.step()\n",
    "\n",
    "        if step % 100 == 0:\n",
    "            loss, current = loss.item(), step * len(x)\n",
    "            print( f'loss {loss:>7f} {current:>5d}/{size:>5d}')\n",
    "\n",
    "\n"
   ]
  },
  {
   "cell_type": "code",
   "execution_count": 11,
   "metadata": {},
   "outputs": [],
   "source": [
    "def test(dataloader, model, loss_fn):\n",
    "    size = len(dataloader.dataset)\n",
    "    num_batches = len(dataloader)\n",
    "    model.eval()\n",
    "    test_loss, correct = 0, 0\n",
    "    with torch.no_grad():\n",
    "        for x,y in dataloader:\n",
    "            y_pred = model(x)\n",
    "            test_loss += loss_fn(y_pred, y).item()\n",
    "            correct += (y_pred.argmax(1) == y).type(torch.float).sum().item()\n",
    "        test_loss /= num_batches\n",
    "        correct /= size\n",
    "        print(f'test error \\n acc {(100*correct):>0.1f}% avg_loss {test_loss:>8f} \\n')"
   ]
  },
  {
   "cell_type": "code",
   "execution_count": 12,
   "metadata": {},
   "outputs": [
    {
     "name": "stdout",
     "output_type": "stream",
     "text": [
      "EPOCH 1\n",
      "loss 2.305758     0/60000\n",
      "loss 0.291369  5000/60000\n",
      "loss 0.229652 10000/60000\n",
      "loss 0.020729 15000/60000\n",
      "loss 0.160047 20000/60000\n",
      "loss 0.078742 25000/60000\n",
      "loss 0.494577 30000/60000\n",
      "loss 0.023271 35000/60000\n",
      "loss 0.130865 40000/60000\n",
      "loss 0.188037 45000/60000\n",
      "loss 0.010867 50000/60000\n",
      "loss 0.066999 55000/60000\n",
      "test error \n",
      " acc 94.5% avg_loss 0.177238 \n",
      "\n",
      "EPOCH 2\n",
      "loss 0.134109     0/60000\n",
      "loss 0.230693  5000/60000\n",
      "loss 0.115309 10000/60000\n",
      "loss 0.042988 15000/60000\n",
      "loss 0.343329 20000/60000\n",
      "loss 0.055274 25000/60000\n",
      "loss 0.316836 30000/60000\n",
      "loss 0.014478 35000/60000\n",
      "loss 0.091038 40000/60000\n",
      "loss 0.131337 45000/60000\n",
      "loss 0.014028 50000/60000\n",
      "loss 0.004232 55000/60000\n",
      "test error \n",
      " acc 95.0% avg_loss 0.165436 \n",
      "\n",
      "EPOCH 3\n",
      "loss 0.141626     0/60000\n",
      "loss 0.161310  5000/60000\n",
      "loss 0.187299 10000/60000\n",
      "loss 0.010881 15000/60000\n",
      "loss 0.103257 20000/60000\n",
      "loss 0.144119 25000/60000\n",
      "loss 0.384857 30000/60000\n",
      "loss 0.033456 35000/60000\n",
      "loss 0.173618 40000/60000\n",
      "loss 0.039002 45000/60000\n",
      "loss 0.007126 50000/60000\n",
      "loss 0.023699 55000/60000\n",
      "test error \n",
      " acc 94.9% avg_loss 0.174354 \n",
      "\n",
      "EPOCH 4\n",
      "loss 0.102273     0/60000\n",
      "loss 0.051372  5000/60000\n",
      "loss 0.103119 10000/60000\n",
      "loss 0.069538 15000/60000\n",
      "loss 0.327532 20000/60000\n",
      "loss 0.108127 25000/60000\n",
      "loss 0.098001 30000/60000\n",
      "loss 0.109419 35000/60000\n",
      "loss 0.109501 40000/60000\n",
      "loss 0.173586 45000/60000\n",
      "loss 0.011621 50000/60000\n",
      "loss 0.003645 55000/60000\n",
      "test error \n",
      " acc 95.3% avg_loss 0.171512 \n",
      "\n",
      "EPOCH 5\n",
      "loss 0.051663     0/60000\n",
      "loss 0.010095  5000/60000\n",
      "loss 0.312010 10000/60000\n",
      "loss 0.051818 15000/60000\n",
      "loss 0.154832 20000/60000\n",
      "loss 0.167643 25000/60000\n",
      "loss 0.151213 30000/60000\n",
      "loss 0.031134 35000/60000\n",
      "loss 0.030754 40000/60000\n",
      "loss 0.126274 45000/60000\n",
      "loss 0.003283 50000/60000\n",
      "loss 0.136042 55000/60000\n",
      "test error \n",
      " acc 96.2% avg_loss 0.124382 \n",
      "\n",
      "EPOCH 6\n",
      "loss 0.044349     0/60000\n",
      "loss 0.117457  5000/60000\n",
      "loss 0.093038 10000/60000\n",
      "loss 0.018637 15000/60000\n",
      "loss 0.206799 20000/60000\n",
      "loss 0.019067 25000/60000\n",
      "loss 0.158412 30000/60000\n",
      "loss 0.043564 35000/60000\n",
      "loss 0.029820 40000/60000\n",
      "loss 0.224484 45000/60000\n",
      "loss 0.014927 50000/60000\n",
      "loss 0.094096 55000/60000\n",
      "test error \n",
      " acc 95.8% avg_loss 0.160748 \n",
      "\n"
     ]
    }
   ],
   "source": [
    "for i in range(EPOCH):\n",
    "    print(f'EPOCH {i+1}')\n",
    "    train(train_loader, cnn, loss_fn, optim)\n",
    "    test(test_loader, cnn, loss_fn)"
   ]
  },
  {
   "cell_type": "code",
   "execution_count": 15,
   "metadata": {},
   "outputs": [
    {
     "name": "stdout",
     "output_type": "stream",
     "text": [
      "7 tensor(7)\n"
     ]
    },
    {
     "data": {
      "image/png": "[encoded data removed]",
      "text/plain": [
       "<Figure size 432x288 with 1 Axes>"
      ]
     },
     "metadata": {
      "needs_background": "light"
     },
     "output_type": "display_data"
    }
   ],
   "source": [
    "testx, testy = test_data[15][0], test_data[15][1]\n",
    "\n",
    "np_testx = testx[0].numpy()\n",
    "plt.imshow(np_testx)\n",
    "test_pred_y = cnn(testx[None,...])\n",
    "argmax_pred_y = torch.argmax(test_pred_y)\n",
    "print(testy, argmax_pred_y)"
   ]
  },
  {
   "cell_type": "code",
   "execution_count": null,
   "metadata": {},
   "outputs": [],
   "source": []
  }
 ],
 "metadata": {
  "interpreter": {
   "hash": "36cf16204b8548560b1c020c4e8fb5b57f0e4c58016f52f2d4be01e192833930"
  },
  "kernelspec": {
   "display_name": "Python 3.9.0 64-bit",
   "name": "python3"
  },
  "language_info": {
   "codemirror_mode": {
    "name": "ipython",
    "version": 3
   },
   "file_extension": ".py",
   "mimetype": "text/x-python",
   "name": "python",
   "nbconvert_exporter": "python",
   "pygments_lexer": "ipython3",
   "version": "3.9.0"
  },
  "orig_nbformat": 4
 },
 "nbformat": 4,
 "nbformat_minor": 2
}
