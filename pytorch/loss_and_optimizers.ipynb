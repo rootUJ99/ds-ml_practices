{
 "cells": [
  {
   "cell_type": "markdown",
   "source": "Loss and optimizers",
   "metadata": {
    "tags": [],
    "cell_id": "00001-339ec434-b0a0-459b-9f50-ed2f5be6860a",
    "deepnote_cell_type": "markdown"
   }
  },
  {
   "cell_type": "code",
   "metadata": {
    "tags": [],
    "cell_id": "00001-f624c21b-6952-4a7f-a00a-68ce7579026f",
    "deepnote_to_be_reexecuted": false,
    "source_hash": "dd32fe6c",
    "execution_start": 1636297500011,
    "execution_millis": 984,
    "deepnote_cell_type": "code"
   },
   "source": "import torch",
   "outputs": [],
   "execution_count": null
  },
  {
   "cell_type": "code",
   "metadata": {
    "tags": [],
    "cell_id": "00002-a8b982aa-4713-4331-aeb6-5e35ea845713",
    "deepnote_to_be_reexecuted": false,
    "source_hash": "83a8b6d0",
    "execution_start": 1636297501004,
    "execution_millis": 13,
    "deepnote_cell_type": "code"
   },
   "source": "x = torch.tensor([1, 2, 3, 4], dtype=torch.float32)\ny = torch.tensor([2, 4, 6, 8], dtype=torch.float32)\nw = torch.tensor(0.0, requires_grad=True)",
   "outputs": [],
   "execution_count": null
  },
  {
   "cell_type": "code",
   "metadata": {
    "tags": [],
    "cell_id": "00003-31798532-3632-4835-a0a2-2c6bef4c673d",
    "deepnote_to_be_reexecuted": false,
    "source_hash": "b4bf1cd4",
    "execution_start": 1636297501023,
    "execution_millis": 8,
    "deepnote_cell_type": "code"
   },
   "source": "def forward(x):\n    return x * w",
   "outputs": [],
   "execution_count": null
  },
  {
   "cell_type": "code",
   "metadata": {
    "tags": [],
    "cell_id": "00004-82d263dd-5275-4c77-8f3e-d4583a083d61",
    "deepnote_to_be_reexecuted": false,
    "source_hash": "24367140",
    "execution_start": 1636297529996,
    "execution_millis": 7,
    "deepnote_cell_type": "code"
   },
   "source": "lr = 0.02\nn_iter = 100",
   "outputs": [],
   "execution_count": null
  },
  {
   "cell_type": "code",
   "metadata": {
    "tags": [],
    "cell_id": "00004-b9f5fbce-e2ac-4467-8a8c-ea67856780cc",
    "deepnote_to_be_reexecuted": false,
    "source_hash": "42cd581d",
    "execution_start": 1636297531736,
    "execution_millis": 4,
    "deepnote_cell_type": "code"
   },
   "source": "loss_fn = torch.nn.MSELoss()\noptimizer = torch.optim.SGD([w], lr)",
   "outputs": [],
   "execution_count": null
  },
  {
   "cell_type": "code",
   "source": "for i in range(n_iter):\n    y_pred = forward(x)\n    loss = loss_fn(y, y_pred)\n    loss.backward()\n    optimizer.step()\n    optimizer.zero_grad()\n\n    if i % 10 == 0:\n         print(f'epoch {i+1} = prediction{y_pred} weight {w:.3f} loss {loss:.8f}') \n",
   "metadata": {
    "tags": [],
    "cell_id": "00006-eed4ddb1-8eec-41eb-884f-bd5fbd83ccf5",
    "deepnote_to_be_reexecuted": false,
    "source_hash": "f7823d75",
    "execution_start": 1636297907762,
    "execution_millis": 61,
    "deepnote_cell_type": "code"
   },
   "outputs": [
    {
     "name": "stdout",
     "text": "epoch 1 = predictiontensor([0., 0., 0., 0.], grad_fn=<MulBackward0>) weight 0.600 loss 30.00000000\nepoch 11 = predictiontensor([1.9435, 3.8870, 5.8305, 7.7740], grad_fn=<MulBackward0>) weight 1.960 loss 0.02393769\nepoch 21 = predictiontensor([1.9984, 3.9968, 5.9952, 7.9936], grad_fn=<MulBackward0>) weight 1.999 loss 0.00001910\nepoch 31 = predictiontensor([2.0000, 3.9999, 5.9999, 7.9998], grad_fn=<MulBackward0>) weight 2.000 loss 0.00000002\nepoch 41 = predictiontensor([2.0000, 4.0000, 6.0000, 8.0000], grad_fn=<MulBackward0>) weight 2.000 loss 0.00000000\nepoch 51 = predictiontensor([2.0000, 4.0000, 6.0000, 8.0000], grad_fn=<MulBackward0>) weight 2.000 loss 0.00000000\nepoch 61 = predictiontensor([2.0000, 4.0000, 6.0000, 8.0000], grad_fn=<MulBackward0>) weight 2.000 loss 0.00000000\nepoch 71 = predictiontensor([2.0000, 4.0000, 6.0000, 8.0000], grad_fn=<MulBackward0>) weight 2.000 loss 0.00000000\nepoch 81 = predictiontensor([2.0000, 4.0000, 6.0000, 8.0000], grad_fn=<MulBackward0>) weight 2.000 loss 0.00000000\nepoch 91 = predictiontensor([2.0000, 4.0000, 6.0000, 8.0000], grad_fn=<MulBackward0>) weight 2.000 loss 0.00000000\n",
     "output_type": "stream"
    }
   ],
   "execution_count": null
  },
  {
   "cell_type": "code",
   "source": "forward(2)",
   "metadata": {
    "tags": [],
    "cell_id": "00007-ea054ada-ec7c-4daa-8b9b-0217f1c8d69b",
    "deepnote_to_be_reexecuted": false,
    "source_hash": "28ab1d28",
    "execution_start": 1636297936511,
    "execution_millis": 11,
    "deepnote_cell_type": "code"
   },
   "outputs": [
    {
     "output_type": "execute_result",
     "execution_count": 11,
     "data": {
      "text/plain": "tensor(4.0000, grad_fn=<MulBackward0>)"
     },
     "metadata": {}
    }
   ],
   "execution_count": null
  },
  {
   "cell_type": "code",
   "source": "",
   "metadata": {
    "tags": [],
    "cell_id": "00008-31954250-8396-4ac9-a780-5aae09e53ba1",
    "deepnote_cell_type": "code"
   },
   "outputs": [],
   "execution_count": null
  },
  {
   "cell_type": "markdown",
   "source": "<a style='text-decoration:none;line-height:16px;display:flex;color:#5B5B62;padding:10px;justify-content:end;' href='https://deepnote.com?utm_source=created-in-deepnote-cell&projectId=95fccd86-d9c7-402f-a93f-d5e23e9bc087' target=\"_blank\">\n<img alt='Created in deepnote.com' style='display:inline;max-height:16px;margin:0px;margin-right:7.5px;' src='data:image/svg+xml;base64,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' > </img>\nCreated in <span style='font-weight:600;margin-left:4px;'>Deepnote</span></a>",
   "metadata": {
    "tags": [],
    "created_in_deepnote_cell": true,
    "deepnote_cell_type": "markdown"
   }
  }
 ],
 "nbformat": 4,
 "nbformat_minor": 2,
 "metadata": {
  "orig_nbformat": 2,
  "deepnote": {
   "is_reactive": false
  },
  "deepnote_notebook_id": "bae38dae-27f9-455a-8db4-514b4d4fc6f3",
  "deepnote_execution_queue": []
 }
}