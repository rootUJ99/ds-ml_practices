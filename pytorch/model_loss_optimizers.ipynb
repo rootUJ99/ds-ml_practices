{
 "cells": [
  {
   "cell_type": "markdown",
   "source": "model with loss and optimizer",
   "metadata": {
    "tags": [],
    "cell_id": "00001-ca9a32cb-2e75-4457-af1a-96a501b8b8b9",
    "deepnote_cell_type": "markdown"
   }
  },
  {
   "cell_type": "code",
   "metadata": {
    "tags": [],
    "cell_id": "00001-d6cebeaf-a470-444d-8751-54624cd960d9",
    "deepnote_to_be_reexecuted": false,
    "source_hash": "dd32fe6c",
    "execution_start": 1636303804764,
    "execution_millis": 12,
    "deepnote_cell_type": "code"
   },
   "source": "import torch",
   "execution_count": 2,
   "outputs": []
  },
  {
   "cell_type": "code",
   "metadata": {
    "tags": [],
    "cell_id": "00002-340949b4-d5dd-4041-947b-91c688596820",
    "deepnote_to_be_reexecuted": false,
    "source_hash": "cc588d78",
    "execution_start": 1636303805956,
    "execution_millis": 19,
    "deepnote_cell_type": "code"
   },
   "source": "x = torch.tensor([[1], [2], [3], [4]], dtype=torch.float32)\ny = torch.tensor([[2], [4], [6], [8]], dtype=torch.float32)\nw = torch.tensor(0.0, requires_grad=True)",
   "execution_count": 3,
   "outputs": []
  },
  {
   "cell_type": "code",
   "metadata": {
    "tags": [],
    "cell_id": "00003-d64fe76b-8cf4-4f03-a445-35dc52d5ba92",
    "deepnote_to_be_reexecuted": false,
    "source_hash": "e6b6db5b",
    "execution_start": 1636303808454,
    "execution_millis": 13,
    "deepnote_cell_type": "code"
   },
   "source": "n_samples, n_features, = x.shape",
   "execution_count": 4,
   "outputs": []
  },
  {
   "cell_type": "code",
   "metadata": {
    "tags": [],
    "cell_id": "00004-65fb9786-5523-4354-ba97-003253c9b440",
    "deepnote_to_be_reexecuted": false,
    "source_hash": "fc1a665d",
    "execution_start": 1636303809026,
    "execution_millis": 29,
    "deepnote_cell_type": "code"
   },
   "source": "print(n_samples, n_features, x.shape)",
   "execution_count": 5,
   "outputs": [
    {
     "name": "stdout",
     "text": "4 1 torch.Size([4, 1])\n",
     "output_type": "stream"
    }
   ]
  },
  {
   "cell_type": "code",
   "source": "lr=0.02\nn_iters = 100",
   "metadata": {
    "tags": [],
    "cell_id": "00005-db8198b2-7172-4470-9f5d-be0bd5a1afbc",
    "deepnote_to_be_reexecuted": false,
    "source_hash": "6acee973",
    "execution_start": 1636303902323,
    "execution_millis": 4,
    "deepnote_cell_type": "code"
   },
   "outputs": [],
   "execution_count": 6
  },
  {
   "cell_type": "code",
   "metadata": {
    "tags": [],
    "cell_id": "00005-33852911-325d-4a0b-9605-bb91c75f062c",
    "deepnote_to_be_reexecuted": false,
    "source_hash": "33358851",
    "execution_start": 1636303925136,
    "execution_millis": 17,
    "deepnote_cell_type": "code"
   },
   "source": "model = torch.nn.Linear(n_features, n_features)\nloss_fn = torch.nn.MSELoss()\noptimizer = torch.optim.SGD(model.parameters(), lr=lr)",
   "execution_count": 8,
   "outputs": []
  },
  {
   "cell_type": "code",
   "source": "for i in range(n_iters):\n    y_pred = model(x)\n    loss = loss_fn(y, y_pred)\n    loss.backward()\n    optimizer.step()\n    optimizer.zero_grad()\n    if i % 10 == 0:\n        [w, b] = model.parameters()\n        print(f'epoch = {i+1}, weight = {w[0][0].item()}, bais = {b[0].item()}, loss = {loss} ')",
   "metadata": {
    "tags": [],
    "cell_id": "00007-df61a195-d241-4367-96aa-6e044c036dee",
    "deepnote_to_be_reexecuted": false,
    "source_hash": "96141bb",
    "execution_start": 1636305029952,
    "execution_millis": 57,
    "deepnote_cell_type": "code"
   },
   "outputs": [
    {
     "name": "stdout",
     "text": "epoch = 1, weight = 1.9914584159851074, bais = 0.02511320449411869, loss = 0.00010660348925739527 \nepoch = 11, weight = 1.991956353187561, bais = 0.023649372160434723, loss = 9.453738312004134e-05 \nepoch = 21, weight = 1.9924252033233643, bais = 0.022270819172263145, loss = 8.383684325963259e-05 \nepoch = 31, weight = 1.9928667545318604, bais = 0.020972607657313347, loss = 7.434720464516431e-05 \nepoch = 41, weight = 1.9932825565338135, bais = 0.01975012943148613, loss = 6.593354919459671e-05 \nepoch = 51, weight = 1.9936741590499878, bais = 0.0185988936573267, loss = 5.847027568961494e-05 \nepoch = 61, weight = 1.9940428733825684, bais = 0.01751471310853958, loss = 5.185332702239975e-05 \nepoch = 71, weight = 1.9943901300430298, bais = 0.01649380289018154, loss = 4.598440500558354e-05 \nepoch = 81, weight = 1.9947171211242676, bais = 0.01553236972540617, loss = 4.0778199036139995e-05 \nepoch = 91, weight = 1.9950250387191772, bais = 0.01462697796523571, loss = 3.616327740019187e-05 \n",
     "output_type": "stream"
    }
   ],
   "execution_count": 16
  },
  {
   "cell_type": "code",
   "source": "x_test = torch.tensor([5], dtype=torch.float32)",
   "metadata": {
    "tags": [],
    "cell_id": "00008-abf9c390-eeec-4b06-adca-d7657239812a",
    "deepnote_to_be_reexecuted": false,
    "source_hash": "b8331cfe",
    "execution_start": 1636305147890,
    "execution_millis": 3,
    "deepnote_cell_type": "code"
   },
   "outputs": [],
   "execution_count": 17
  },
  {
   "cell_type": "code",
   "source": "model(x_test)",
   "metadata": {
    "tags": [],
    "cell_id": "00009-fd8a273b-cd78-43ca-b99e-99f94e25888e",
    "deepnote_to_be_reexecuted": false,
    "source_hash": "42d004aa",
    "execution_start": 1636305235687,
    "execution_millis": 24,
    "deepnote_cell_type": "code"
   },
   "outputs": [
    {
     "output_type": "execute_result",
     "execution_count": 19,
     "data": {
      "text/plain": "tensor([9.9903], grad_fn=<AddBackward0>)"
     },
     "metadata": {}
    }
   ],
   "execution_count": 19
  },
  {
   "cell_type": "code",
   "source": "",
   "metadata": {
    "tags": [],
    "cell_id": "00010-a8440a2e-b256-4cc2-be31-b2da0306949c",
    "deepnote_cell_type": "code"
   },
   "outputs": [],
   "execution_count": null
  },
  {
   "cell_type": "markdown",
   "source": "<a style='text-decoration:none;line-height:16px;display:flex;color:#5B5B62;padding:10px;justify-content:end;' href='https://deepnote.com?utm_source=created-in-deepnote-cell&projectId=95fccd86-d9c7-402f-a93f-d5e23e9bc087' target=\"_blank\">\n<img alt='Created in deepnote.com' style='display:inline;max-height:16px;margin:0px;margin-right:7.5px;' src='data:image/svg+xml;base64,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' > </img>\nCreated in <span style='font-weight:600;margin-left:4px;'>Deepnote</span></a>",
   "metadata": {
    "tags": [],
    "created_in_deepnote_cell": true,
    "deepnote_cell_type": "markdown"
   }
  }
 ],
 "nbformat": 4,
 "nbformat_minor": 2,
 "metadata": {
  "orig_nbformat": 2,
  "deepnote": {
   "is_reactive": false
  },
  "deepnote_notebook_id": "6dd7785a-7165-4413-a338-6d16ddb53eae",
  "deepnote_execution_queue": []
 }
}