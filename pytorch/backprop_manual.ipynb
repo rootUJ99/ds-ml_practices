{
 "cells": [
  {
   "cell_type": "markdown",
   "metadata": {
    "cell_id": "00000-d709fccc-a620-4f55-8fce-fb51e6b9fa23",
    "deepnote_cell_type": "markdown",
    "tags": []
   },
   "source": [
    "backprop"
   ]
  },
  {
   "cell_type": "code",
   "execution_count": 1,
   "metadata": {
    "cell_id": "00001-d2f3b47f-25c8-42c9-8b63-b359a571e879",
    "deepnote_cell_type": "code",
    "deepnote_to_be_reexecuted": false,
    "execution_millis": 2,
    "execution_start": 1636269601972,
    "source_hash": "dd32fe6c",
    "tags": []
   },
   "outputs": [],
   "source": [
    "import torch"
   ]
  },
  {
   "cell_type": "code",
   "execution_count": 2,
   "metadata": {
    "cell_id": "00002-87334dc1-99c1-48b7-80ab-0ab6dce124ee",
    "deepnote_cell_type": "code",
    "deepnote_to_be_reexecuted": false,
    "execution_millis": 29,
    "execution_start": 1636269785646,
    "source_hash": "4c5241e3",
    "tags": []
   },
   "outputs": [
    {
     "name": "stdout",
     "output_type": "stream",
     "text": [
      "torch.float32 torch.float32\n"
     ]
    }
   ],
   "source": [
    "x = torch.tensor([1, 2, 3, 4], dtype=torch.float32)\n",
    "y = torch.tensor([2, 3, 4, 5], dtype=torch.float32)\n",
    "w = 0.0\n",
    "\n",
    "print(x.dtype, y.dtype)"
   ]
  },
  {
   "cell_type": "code",
   "execution_count": 3,
   "metadata": {
    "cell_id": "00003-549c6a05-0613-481e-9784-5253cc8c4a5d",
    "deepnote_cell_type": "code",
    "deepnote_to_be_reexecuted": false,
    "execution_millis": 0,
    "execution_start": 1636269787315,
    "source_hash": "b4bf1cd4",
    "tags": []
   },
   "outputs": [],
   "source": [
    "def forward(x):\n",
    "    return x * w"
   ]
  },
  {
   "cell_type": "code",
   "execution_count": 4,
   "metadata": {
    "cell_id": "00004-e7b4fe59-4e83-418d-8ee2-a58da4c38094",
    "deepnote_cell_type": "code",
    "deepnote_to_be_reexecuted": false,
    "execution_millis": 6,
    "execution_start": 1636269789625,
    "source_hash": "4e14049",
    "tags": []
   },
   "outputs": [],
   "source": [
    "def loss_fn(y, y_pred):\n",
    "    return ((y_pred - y)**2).mean()\n",
    "    "
   ]
  },
  {
   "cell_type": "code",
   "execution_count": 5,
   "metadata": {
    "cell_id": "00006-a17c4911-63fe-49fb-bde9-451a8a6676e5",
    "deepnote_cell_type": "code",
    "deepnote_to_be_reexecuted": false,
    "execution_millis": 5,
    "execution_start": 1636269790710,
    "source_hash": "d57607d8",
    "tags": []
   },
   "outputs": [],
   "source": [
    "# J = MSE = 1/N * (w*x - y)**2\n",
    "# dJ/dw = 1/N * 2x(w*x - y)\n",
    "\n",
    "def gradient(x, y, y_pred):\n",
    "    return torch.dot(2*x, y_pred - y).mean()"
   ]
  },
  {
   "cell_type": "code",
   "execution_count": 6,
   "metadata": {
    "cell_id": "00007-162c1325-b733-4d7a-a8d8-5fe3048d2997",
    "deepnote_cell_type": "code",
    "deepnote_to_be_reexecuted": false,
    "execution_millis": 3,
    "execution_start": 1636269815836,
    "source_hash": "b9553cf9",
    "tags": []
   },
   "outputs": [],
   "source": [
    "lr = 0.02\n",
    "n_iter = 50"
   ]
  },
  {
   "cell_type": "code",
   "execution_count": 7,
   "metadata": {
    "cell_id": "00008-3f61c858-b80a-4c06-8d07-580176e8ed61",
    "deepnote_cell_type": "code",
    "deepnote_to_be_reexecuted": false,
    "execution_millis": 25,
    "execution_start": 1636269817797,
    "source_hash": "d65b42aa",
    "tags": []
   },
   "outputs": [
    {
     "name": "stdout",
     "output_type": "stream",
     "text": [
      "epoch 1 = predictiontensor([0., 0., 0., 0.]) weight 1.600 loss 13.50000000\n",
      "epoch 3 = predictiontensor([1.2800, 2.5600, 3.8400, 5.1200]) weight 1.344 loss 0.18800001\n",
      "epoch 5 = predictiontensor([1.3312, 2.6624, 3.9936, 5.3248]) weight 1.334 loss 0.16670080\n",
      "epoch 7 = predictiontensor([1.3332, 2.6665, 3.9997, 5.3330]) weight 1.333 loss 0.16666672\n",
      "epoch 9 = predictiontensor([1.3333, 2.6667, 4.0000, 5.3333]) weight 1.333 loss 0.16666666\n",
      "epoch 11 = predictiontensor([1.3333, 2.6667, 4.0000, 5.3333]) weight 1.333 loss 0.16666666\n",
      "epoch 13 = predictiontensor([1.3333, 2.6667, 4.0000, 5.3333]) weight 1.333 loss 0.16666667\n",
      "epoch 15 = predictiontensor([1.3333, 2.6667, 4.0000, 5.3333]) weight 1.333 loss 0.16666667\n",
      "epoch 17 = predictiontensor([1.3333, 2.6667, 4.0000, 5.3333]) weight 1.333 loss 0.16666667\n",
      "epoch 19 = predictiontensor([1.3333, 2.6667, 4.0000, 5.3333]) weight 1.333 loss 0.16666667\n",
      "epoch 21 = predictiontensor([1.3333, 2.6667, 4.0000, 5.3333]) weight 1.333 loss 0.16666667\n",
      "epoch 23 = predictiontensor([1.3333, 2.6667, 4.0000, 5.3333]) weight 1.333 loss 0.16666667\n",
      "epoch 25 = predictiontensor([1.3333, 2.6667, 4.0000, 5.3333]) weight 1.333 loss 0.16666667\n",
      "epoch 27 = predictiontensor([1.3333, 2.6667, 4.0000, 5.3333]) weight 1.333 loss 0.16666667\n",
      "epoch 29 = predictiontensor([1.3333, 2.6667, 4.0000, 5.3333]) weight 1.333 loss 0.16666667\n",
      "epoch 31 = predictiontensor([1.3333, 2.6667, 4.0000, 5.3333]) weight 1.333 loss 0.16666667\n",
      "epoch 33 = predictiontensor([1.3333, 2.6667, 4.0000, 5.3333]) weight 1.333 loss 0.16666667\n",
      "epoch 35 = predictiontensor([1.3333, 2.6667, 4.0000, 5.3333]) weight 1.333 loss 0.16666667\n",
      "epoch 37 = predictiontensor([1.3333, 2.6667, 4.0000, 5.3333]) weight 1.333 loss 0.16666667\n",
      "epoch 39 = predictiontensor([1.3333, 2.6667, 4.0000, 5.3333]) weight 1.333 loss 0.16666667\n",
      "epoch 41 = predictiontensor([1.3333, 2.6667, 4.0000, 5.3333]) weight 1.333 loss 0.16666667\n",
      "epoch 43 = predictiontensor([1.3333, 2.6667, 4.0000, 5.3333]) weight 1.333 loss 0.16666667\n",
      "epoch 45 = predictiontensor([1.3333, 2.6667, 4.0000, 5.3333]) weight 1.333 loss 0.16666667\n",
      "epoch 47 = predictiontensor([1.3333, 2.6667, 4.0000, 5.3333]) weight 1.333 loss 0.16666667\n",
      "epoch 49 = predictiontensor([1.3333, 2.6667, 4.0000, 5.3333]) weight 1.333 loss 0.16666667\n"
     ]
    }
   ],
   "source": [
    "for i in range(n_iter):\n",
    "    y_pred = forward(x)\n",
    "\n",
    "    loss = loss_fn(y, y_pred)\n",
    "\n",
    "    dw = gradient(x, y, y_pred)\n",
    "\n",
    "    w -= dw * lr\n",
    "\n",
    "    if  i % 2 == 0:\n",
    "        print(f'epoch {i+1} = prediction{y_pred} weight {w:.3f} loss {loss:.8f}') "
   ]
  },
  {
   "cell_type": "code",
   "execution_count": 8,
   "metadata": {
    "cell_id": "00010-cfa5af5e-5f11-4ba8-8423-45efe18f28c5",
    "deepnote_cell_type": "code",
    "deepnote_to_be_reexecuted": false,
    "execution_millis": 3,
    "execution_start": 1636269826676,
    "source_hash": "28ab1d28",
    "tags": []
   },
   "outputs": [
    {
     "data": {
      "text/plain": [
       "tensor(2.6667)"
      ]
     },
     "execution_count": 8,
     "metadata": {},
     "output_type": "execute_result"
    }
   ],
   "source": [
    "forward(2)"
   ]
  },
  {
   "cell_type": "code",
   "execution_count": null,
   "metadata": {
    "cell_id": "00009-0e4a8aaf-d1be-4905-93de-44188baf3433",
    "deepnote_cell_type": "code",
    "tags": []
   },
   "outputs": [],
   "source": []
  },
  {
   "cell_type": "markdown",
   "metadata": {
    "created_in_deepnote_cell": true,
    "deepnote_cell_type": "markdown",
    "tags": []
   },
   "source": [
    "<a style='text-decoration:none;line-height:16px;display:flex;color:#5B5B62;padding:10px;justify-content:end;' href='https://deepnote.com?utm_source=created-in-deepnote-cell&projectId=95fccd86-d9c7-402f-a93f-d5e23e9bc087' target=\"_blank\">\n",
    "<img alt='Created in deepnote.com' style='display:inline;max-height:16px;margin:0px;margin-right:7.5px;' src='data:image/svg+xml;base64,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' > </img>\n",
    "Created in <span style='font-weight:600;margin-left:4px;'>Deepnote</span></a>"
   ]
  }
 ],
 "metadata": {
  "deepnote": {
   "is_reactive": false
  },
  "deepnote_execution_queue": [],
  "deepnote_notebook_id": "a7f33ce8-ecf7-41c2-818f-923faae60576",
  "interpreter": {
   "hash": "36cf16204b8548560b1c020c4e8fb5b57f0e4c58016f52f2d4be01e192833930"
  },
  "kernelspec": {
   "display_name": "Python 3.9.0 64-bit",
   "name": "python3"
  },
  "language_info": {
   "codemirror_mode": {
    "name": "ipython",
    "version": 3
   },
   "file_extension": ".py",
   "mimetype": "text/x-python",
   "name": "python",
   "nbconvert_exporter": "python",
   "pygments_lexer": "ipython3",
   "version": "3.9.0+"
  },
  "orig_nbformat": 2
 },
 "nbformat": 4,
 "nbformat_minor": 2
}
