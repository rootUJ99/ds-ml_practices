{
 "cells": [
  {
   "cell_type": "markdown",
   "source": "backprop",
   "metadata": {
    "tags": [],
    "cell_id": "00000-d709fccc-a620-4f55-8fce-fb51e6b9fa23",
    "deepnote_cell_type": "markdown"
   }
  },
  {
   "cell_type": "code",
   "metadata": {
    "tags": [],
    "cell_id": "00001-d2f3b47f-25c8-42c9-8b63-b359a571e879",
    "deepnote_to_be_reexecuted": false,
    "source_hash": "dd32fe6c",
    "execution_start": 1636269601972,
    "execution_millis": 2,
    "deepnote_cell_type": "code"
   },
   "source": "import torch",
   "outputs": [],
   "execution_count": null
  },
  {
   "cell_type": "code",
   "metadata": {
    "tags": [],
    "cell_id": "00002-87334dc1-99c1-48b7-80ab-0ab6dce124ee",
    "deepnote_to_be_reexecuted": false,
    "source_hash": "4c5241e3",
    "execution_start": 1636269785646,
    "execution_millis": 29,
    "deepnote_cell_type": "code"
   },
   "source": "x = torch.tensor([1, 2, 3, 4], dtype=torch.float32)\ny = torch.tensor([2, 3, 4, 5], dtype=torch.float32)\nw = 0.0\n\nprint(x.dtype, y.dtype)",
   "outputs": [
    {
     "name": "stdout",
     "text": "torch.float32 torch.float32\n",
     "output_type": "stream"
    }
   ],
   "execution_count": null
  },
  {
   "cell_type": "code",
   "metadata": {
    "tags": [],
    "cell_id": "00003-549c6a05-0613-481e-9784-5253cc8c4a5d",
    "deepnote_to_be_reexecuted": false,
    "source_hash": "b4bf1cd4",
    "execution_start": 1636269787315,
    "execution_millis": 0,
    "deepnote_cell_type": "code"
   },
   "source": "def forward(x):\n    return x * w",
   "outputs": [],
   "execution_count": null
  },
  {
   "cell_type": "code",
   "metadata": {
    "tags": [],
    "cell_id": "00004-e7b4fe59-4e83-418d-8ee2-a58da4c38094",
    "deepnote_to_be_reexecuted": false,
    "source_hash": "4e14049",
    "execution_start": 1636269789625,
    "execution_millis": 6,
    "deepnote_cell_type": "code"
   },
   "source": "def loss_fn(y, y_pred):\n    return ((y_pred - y)**2).mean()\n    ",
   "outputs": [],
   "execution_count": null
  },
  {
   "cell_type": "code",
   "metadata": {
    "tags": [],
    "cell_id": "00006-a17c4911-63fe-49fb-bde9-451a8a6676e5",
    "deepnote_to_be_reexecuted": false,
    "source_hash": "d57607d8",
    "execution_start": 1636269790710,
    "execution_millis": 5,
    "deepnote_cell_type": "code"
   },
   "source": "# J = MSE = 1/N * (w*x - y)**2\n# dJ/dw = 1/N * 2x(w*x - y)\n\ndef gradient(x, y, y_pred):\n    return torch.dot(2*x, y_pred - y).mean()",
   "outputs": [],
   "execution_count": null
  },
  {
   "cell_type": "code",
   "metadata": {
    "tags": [],
    "cell_id": "00007-162c1325-b733-4d7a-a8d8-5fe3048d2997",
    "deepnote_to_be_reexecuted": false,
    "source_hash": "b9553cf9",
    "execution_start": 1636269815836,
    "execution_millis": 3,
    "deepnote_cell_type": "code"
   },
   "source": "lr = 0.2\nn_iter = 50",
   "outputs": [],
   "execution_count": null
  },
  {
   "cell_type": "code",
   "metadata": {
    "tags": [],
    "cell_id": "00008-3f61c858-b80a-4c06-8d07-580176e8ed61",
    "deepnote_to_be_reexecuted": false,
    "source_hash": "d65b42aa",
    "execution_start": 1636269817797,
    "execution_millis": 25,
    "deepnote_cell_type": "code"
   },
   "source": "for i in range(n_iter):\n    y_pred = forward(x)\n\n    loss = loss_fn(y, y_pred)\n\n    dw = gradient(x, y, y_pred)\n\n    w -= dw * lr\n\n    if  i % 2 == 0:\n        print(f'epoch {i+1} = prediction{y_pred} weight {w:.3f} loss {loss:.8f}') ",
   "outputs": [
    {
     "name": "stdout",
     "text": "epoch 1 = predictiontensor([1.3333, 2.6667, 4.0000, 5.3333]) weight 1.333 loss 0.16666667\nepoch 3 = predictiontensor([1.3333, 2.6667, 4.0000, 5.3333]) weight 1.333 loss 0.16666666\nepoch 5 = predictiontensor([1.3338, 2.6675, 4.0013, 5.3350]) weight 1.329 loss 0.16666801\nepoch 7 = predictiontensor([1.3845, 2.7691, 4.1536, 5.5381]) weight 0.770 loss 0.18632495\nepoch 9 = predictiontensor([ 7.5281, 15.0563, 22.5844, 30.1126]) weight -66.810 loss 287.98373413\nepoch 11 = predictiontensor([ 750.9048, 1501.8096, 2252.7144, 3003.6191]) weight -8243.953 loss 4213930.50000000\nepoch 13 = predictiontensor([ 90699.4844, 181398.9688, 272098.4375, 362797.9375]) weight -997678.375 loss 61696155648.00000000\nepoch 15 = predictiontensor([10974479., 21948958., 32923436., 43897916.]) weight -120719256.000 loss 903293765156864.00000000\nepoch 17 = predictiontensor([1.3279e+09, 2.6558e+09, 3.9837e+09, 5.3116e+09]) weight -14607032320.000 loss 13225125970005983232.00000000\nepoch 19 = predictiontensor([1.6068e+11, 3.2135e+11, 4.8203e+11, 6.4271e+11]) weight -1767450869760.000 loss 193629131473453825654784.00000000\nepoch 21 = predictiontensor([1.9442e+13, 3.8884e+13, 5.8326e+13, 7.7768e+13]) weight -213861554716672.000 loss 2834923668298675930865336320.00000000\nepoch 23 = predictiontensor([2.3525e+15, 4.7050e+15, 7.0574e+15, 9.4099e+15]) weight -25877248825360384.000 loss 41506127536081518791454321803264.00000000\nepoch 25 = predictiontensor([2.8465e+17, 5.6930e+17, 8.5395e+17, 1.1386e+18]) weight -3131147432138637312.000 loss 607691098427159466349745195230167040.00000000\nepoch 27 = predictiontensor([3.4443e+19, 6.8885e+19, 1.0333e+20, 1.3777e+20]) weight -378868872274123948032.000 loss inf\nepoch 29 = predictiontensor([4.1676e+21, 8.3351e+21, 1.2503e+22, 1.6670e+22]) weight -45843135902521927663616.000 loss inf\nepoch 31 = predictiontensor([5.0427e+23, 1.0085e+24, 1.5128e+24, 2.0171e+24]) weight -5547019529773546167336960.000 loss inf\nepoch 33 = predictiontensor([6.1017e+25, 1.2203e+26, 1.8305e+26, 2.4407e+26]) weight -671189357914452315516960768.000 loss inf\nepoch 35 = predictiontensor([7.3831e+27, 1.4766e+28, 2.2149e+28, 2.9532e+28]) weight -81213908175578057666612690944.000 loss inf\nepoch 37 = predictiontensor([8.9335e+29, 1.7867e+30, 2.6801e+30, 3.5734e+30]) weight -9826882879800212011920845176832.000 loss inf\nepoch 39 = predictiontensor([1.0810e+32, 2.1619e+32, 3.2429e+32, 4.3238e+32]) weight -1189052936050223599144418815246336.000 loss inf\nepoch 41 = predictiontensor([1.3080e+34, 2.6159e+34, 3.9239e+34, 5.2318e+34]) weight -143875421587411323572427051877007360.000 loss inf\nepoch 43 = predictiontensor([1.5826e+36, 3.1653e+36, 4.7479e+36, 6.3305e+36]) weight -17408925843716924809451955890836996096.000 loss inf\nepoch 45 = predictiontensor([inf, inf, inf, inf]) weight nan loss inf\nepoch 47 = predictiontensor([nan, nan, nan, nan]) weight nan loss nan\nepoch 49 = predictiontensor([nan, nan, nan, nan]) weight nan loss nan\n",
     "output_type": "stream"
    }
   ],
   "execution_count": null
  },
  {
   "cell_type": "code",
   "metadata": {
    "tags": [],
    "cell_id": "00010-cfa5af5e-5f11-4ba8-8423-45efe18f28c5",
    "deepnote_to_be_reexecuted": false,
    "source_hash": "28ab1d28",
    "execution_start": 1636269826676,
    "execution_millis": 3,
    "deepnote_cell_type": "code"
   },
   "source": "forward(2)",
   "outputs": [
    {
     "output_type": "execute_result",
     "execution_count": 78,
     "data": {
      "text/plain": "tensor(nan)"
     },
     "metadata": {}
    }
   ],
   "execution_count": null
  },
  {
   "cell_type": "code",
   "source": "",
   "metadata": {
    "tags": [],
    "cell_id": "00009-0e4a8aaf-d1be-4905-93de-44188baf3433",
    "deepnote_cell_type": "code"
   },
   "outputs": [],
   "execution_count": null
  },
  {
   "cell_type": "markdown",
   "source": "<a style='text-decoration:none;line-height:16px;display:flex;color:#5B5B62;padding:10px;justify-content:end;' href='https://deepnote.com?utm_source=created-in-deepnote-cell&projectId=95fccd86-d9c7-402f-a93f-d5e23e9bc087' target=\"_blank\">\n<img alt='Created in deepnote.com' style='display:inline;max-height:16px;margin:0px;margin-right:7.5px;' src='data:image/svg+xml;base64,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' > </img>\nCreated in <span style='font-weight:600;margin-left:4px;'>Deepnote</span></a>",
   "metadata": {
    "tags": [],
    "created_in_deepnote_cell": true,
    "deepnote_cell_type": "markdown"
   }
  }
 ],
 "nbformat": 4,
 "nbformat_minor": 2,
 "metadata": {
  "orig_nbformat": 2,
  "deepnote": {
   "is_reactive": false
  },
  "deepnote_notebook_id": "a7f33ce8-ecf7-41c2-818f-923faae60576",
  "deepnote_execution_queue": []
 }
}