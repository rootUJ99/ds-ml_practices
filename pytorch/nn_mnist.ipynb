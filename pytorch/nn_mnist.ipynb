{
 "cells": [
  {
   "cell_type": "markdown",
   "metadata": {
    "cell_id": "00001-5dedb379-498a-421e-bbb7-8bbf75ae90d2",
    "deepnote_cell_type": "markdown",
    "tags": []
   },
   "source": [
    "MNIST with NN"
   ]
  },
  {
   "cell_type": "code",
   "execution_count": 1,
   "metadata": {
    "cell_id": "00001-bf97a0a5-3370-4057-854a-ef3cf0070e03",
    "deepnote_cell_type": "code",
    "deepnote_to_be_reexecuted": false,
    "execution_millis": 1,
    "execution_start": 1636366878523,
    "source_hash": "6be38d84",
    "tags": []
   },
   "outputs": [],
   "source": [
    "import torch\n",
    "import torch.nn as nn\n",
    "from torch.utils.data import DataLoader\n",
    "from torchvision import datasets\n",
    "from torchvision.transforms import ToTensor, Lambda, Compose\n",
    "import matplotlib.pyplot as plt\n",
    "import os"
   ]
  },
  {
   "cell_type": "code",
   "execution_count": 2,
   "metadata": {
    "cell_id": "00002-d380a985-2e9f-4799-8431-81ef96c4ca15",
    "deepnote_cell_type": "code",
    "deepnote_to_be_reexecuted": false,
    "execution_millis": 3,
    "execution_start": 1636366880020,
    "source_hash": "4e5115a5",
    "tags": []
   },
   "outputs": [],
   "source": [
    "EPOCH = 5\n",
    "BATCH_SIZE = 50\n",
    "LR = 0.001\n",
    "DOWNLOAD_MNIST = False"
   ]
  },
  {
   "cell_type": "code",
   "execution_count": 3,
   "metadata": {
    "cell_id": "00003-ac27fa0c-1555-499c-b326-15ee9ea2328c",
    "deepnote_cell_type": "code",
    "deepnote_to_be_reexecuted": false,
    "execution_millis": 8,
    "execution_start": 1636367219118,
    "source_hash": "c7d46204",
    "tags": []
   },
   "outputs": [
    {
     "data": {
      "text/plain": [
       "False"
      ]
     },
     "execution_count": 3,
     "metadata": {},
     "output_type": "execute_result"
    }
   ],
   "source": [
    "if not(os.path.exists('./data')) or not os.listdir('./data'):\n",
    "    # not mnist dir or mnist is empyt dir\n",
    "    DOWNLOAD_MNIST = True\n",
    "DOWNLOAD_MNIST"
   ]
  },
  {
   "cell_type": "code",
   "execution_count": 4,
   "metadata": {
    "cell_id": "00002-9c774490-25af-49e8-b748-df9f95617bb9",
    "deepnote_cell_type": "code",
    "deepnote_to_be_reexecuted": false,
    "execution_millis": 136,
    "execution_start": 1636367248132,
    "source_hash": "e593a3ab",
    "tags": []
   },
   "outputs": [],
   "source": [
    "train_data = datasets.MNIST(\n",
    "    root=\"data\",\n",
    "    train=True,\n",
    "    download=True,\n",
    "    transform=ToTensor(),\n",
    ")"
   ]
  },
  {
   "cell_type": "code",
   "execution_count": 5,
   "metadata": {
    "cell_id": "00003-72220770-8d87-48c4-b194-beab5c63e377",
    "deepnote_cell_type": "code",
    "tags": []
   },
   "outputs": [],
   "source": [
    "test_data = datasets.MNIST(\n",
    "    root=\"data\",\n",
    "    train=False,\n",
    "    download=True,\n",
    "    transform=ToTensor(),\n",
    ")"
   ]
  },
  {
   "cell_type": "code",
   "execution_count": 6,
   "metadata": {},
   "outputs": [
    {
     "name": "stdout",
     "output_type": "stream",
     "text": [
      "Shape of X [N, C, H, W]:  torch.Size([50, 1, 28, 28])\n",
      "Shape of y:  torch.Size([50]) torch.int64\n"
     ]
    }
   ],
   "source": [
    "train_loader = DataLoader(train_data, batch_size=BATCH_SIZE)\n",
    "test_loader = DataLoader(test_data, batch_size=BATCH_SIZE)\n",
    "for X, y in test_loader:\n",
    "    print(\"Shape of X [N, C, H, W]: \", X.shape)\n",
    "    print(\"Shape of y: \", y.shape, y.dtype)\n",
    "    break"
   ]
  },
  {
   "cell_type": "code",
   "execution_count": 7,
   "metadata": {},
   "outputs": [],
   "source": [
    "class Net(nn.Module):\n",
    "    def __init__(self, n_feature, n_hidden, n_output):\n",
    "        super(Net, self).__init__()\n",
    "        self.flatten = nn.Flatten()\n",
    "        self.linear_relu_stack = nn.Sequential(\n",
    "            nn.Linear(n_feature, n_hidden),\n",
    "            nn.ReLU(),\n",
    "            nn.Linear(n_hidden, n_hidden),\n",
    "            nn.ReLU(),\n",
    "            nn.Linear(n_hidden, n_output)\n",
    "        ) \n",
    "    def forward(self, x):\n",
    "        x = self.flatten(x)\n",
    "        logits = self.linear_relu_stack(x)\n",
    "        return logits"
   ]
  },
  {
   "cell_type": "code",
   "execution_count": 8,
   "metadata": {},
   "outputs": [],
   "source": [
    "net = Net(28*28, 512, 10)"
   ]
  },
  {
   "cell_type": "code",
   "execution_count": 9,
   "metadata": {},
   "outputs": [
    {
     "name": "stdout",
     "output_type": "stream",
     "text": [
      "Net(\n",
      "  (flatten): Flatten(start_dim=1, end_dim=-1)\n",
      "  (linear_relu_stack): Sequential(\n",
      "    (0): Linear(in_features=784, out_features=512, bias=True)\n",
      "    (1): ReLU()\n",
      "    (2): Linear(in_features=512, out_features=512, bias=True)\n",
      "    (3): ReLU()\n",
      "    (4): Linear(in_features=512, out_features=10, bias=True)\n",
      "  )\n",
      ")\n"
     ]
    }
   ],
   "source": [
    "print(net)"
   ]
  },
  {
   "cell_type": "code",
   "execution_count": 10,
   "metadata": {},
   "outputs": [],
   "source": [
    "loss_fn = nn.CrossEntropyLoss()\n",
    "optim = torch.optim.SGD(net.parameters(), lr=LR)"
   ]
  },
  {
   "cell_type": "code",
   "execution_count": 11,
   "metadata": {},
   "outputs": [],
   "source": [
    "def train(dataloader, model, loss_fn, optim):\n",
    "    size = len(dataloader.dataset)\n",
    "    model.train()\n",
    "    for step, (x,y) in enumerate(dataloader):\n",
    "        y_pred = model(x)\n",
    "        loss = loss_fn(y_pred, y)\n",
    "        optim.zero_grad()\n",
    "        loss.backward()\n",
    "        optim.step()\n",
    "\n",
    "        if step % 100 == 0:\n",
    "            print(x.dtype)\n",
    "            loss, current = loss.item(), step * len(X)\n",
    "            print(f\"loss: {loss:>7f}  [{current:>5d}/{size:>5d}]\")\n",
    "        "
   ]
  },
  {
   "cell_type": "code",
   "execution_count": 12,
   "metadata": {},
   "outputs": [],
   "source": [
    "def test(dataloader, model, loss_fn):\n",
    "    size = len(dataloader.dataset)\n",
    "    num_batches = len(dataloader)\n",
    "    model.eval()\n",
    "    test_loss, correct = 0, 0\n",
    "    with torch.no_grad():\n",
    "        for x, y in dataloader:\n",
    "            y_pred = model(x)\n",
    "            test_loss += loss_fn(y_pred, y).item()\n",
    "            correct += (y_pred.argmax(1) == y).type(torch.float).sum().item()\n",
    "        test_loss /= num_batches\n",
    "        correct /= size\n",
    "        print(f\"Test Error: \\n Accuracy: {(100*correct):>0.1f}%, Avg loss: {test_loss:>8f} \\n\")"
   ]
  },
  {
   "cell_type": "code",
   "execution_count": 13,
   "metadata": {},
   "outputs": [
    {
     "name": "stdout",
     "output_type": "stream",
     "text": [
      "EPOCH 1\n",
      "torch.float32\n",
      "loss: 2.307951  [    0/60000]\n",
      "torch.float32\n",
      "loss: 2.292087  [ 5000/60000]\n",
      "torch.float32\n",
      "loss: 2.291622  [10000/60000]\n",
      "torch.float32\n",
      "loss: 2.287766  [15000/60000]\n",
      "torch.float32\n",
      "loss: 2.293760  [20000/60000]\n",
      "torch.float32\n",
      "loss: 2.276606  [25000/60000]\n",
      "torch.float32\n",
      "loss: 2.274204  [30000/60000]\n",
      "torch.float32\n",
      "loss: 2.271068  [35000/60000]\n",
      "torch.float32\n",
      "loss: 2.255443  [40000/60000]\n",
      "torch.float32\n",
      "loss: 2.259116  [45000/60000]\n",
      "torch.float32\n",
      "loss: 2.266231  [50000/60000]\n",
      "torch.float32\n",
      "loss: 2.233307  [55000/60000]\n",
      "Test Error: \n",
      " Accuracy: 49.5%, Avg loss: 2.238166 \n",
      "\n",
      "EPOCH 2\n",
      "torch.float32\n",
      "loss: 2.247168  [    0/60000]\n",
      "torch.float32\n",
      "loss: 2.220244  [ 5000/60000]\n",
      "torch.float32\n",
      "loss: 2.216748  [10000/60000]\n",
      "torch.float32\n",
      "loss: 2.209617  [15000/60000]\n",
      "torch.float32\n",
      "loss: 2.241406  [20000/60000]\n",
      "torch.float32\n",
      "loss: 2.191886  [25000/60000]\n",
      "torch.float32\n",
      "loss: 2.202167  [30000/60000]\n",
      "torch.float32\n",
      "loss: 2.188353  [35000/60000]\n",
      "torch.float32\n",
      "loss: 2.159608  [40000/60000]\n",
      "torch.float32\n",
      "loss: 2.172931  [45000/60000]\n",
      "torch.float32\n",
      "loss: 2.183556  [50000/60000]\n",
      "torch.float32\n",
      "loss: 2.113431  [55000/60000]\n",
      "Test Error: \n",
      " Accuracy: 65.4%, Avg loss: 2.128996 \n",
      "\n",
      "EPOCH 3\n",
      "torch.float32\n",
      "loss: 2.145649  [    0/60000]\n",
      "torch.float32\n",
      "loss: 2.093911  [ 5000/60000]\n",
      "torch.float32\n",
      "loss: 2.081572  [10000/60000]\n",
      "torch.float32\n",
      "loss: 2.065027  [15000/60000]\n",
      "torch.float32\n",
      "loss: 2.139556  [20000/60000]\n",
      "torch.float32\n",
      "loss: 2.032388  [25000/60000]\n",
      "torch.float32\n",
      "loss: 2.059410  [30000/60000]\n",
      "torch.float32\n",
      "loss: 2.030406  [35000/60000]\n",
      "torch.float32\n",
      "loss: 1.965748  [40000/60000]\n",
      "torch.float32\n",
      "loss: 1.999005  [45000/60000]\n",
      "torch.float32\n",
      "loss: 2.010302  [50000/60000]\n",
      "torch.float32\n",
      "loss: 1.872585  [55000/60000]\n",
      "Test Error: \n",
      " Accuracy: 69.5%, Avg loss: 1.904765 \n",
      "\n",
      "EPOCH 4\n",
      "torch.float32\n",
      "loss: 1.936534  [    0/60000]\n",
      "torch.float32\n",
      "loss: 1.837220  [ 5000/60000]\n",
      "torch.float32\n",
      "loss: 1.813181  [10000/60000]\n",
      "torch.float32\n",
      "loss: 1.777884  [15000/60000]\n",
      "torch.float32\n",
      "loss: 1.924744  [20000/60000]\n",
      "torch.float32\n",
      "loss: 1.718909  [25000/60000]\n",
      "torch.float32\n",
      "loss: 1.774873  [30000/60000]\n",
      "torch.float32\n",
      "loss: 1.725214  [35000/60000]\n",
      "torch.float32\n",
      "loss: 1.599864  [40000/60000]\n",
      "torch.float32\n",
      "loss: 1.675020  [45000/60000]\n",
      "torch.float32\n",
      "loss: 1.685266  [50000/60000]\n",
      "torch.float32\n",
      "loss: 1.474119  [55000/60000]\n",
      "Test Error: \n",
      " Accuracy: 73.0%, Avg loss: 1.523584 \n",
      "\n",
      "EPOCH 5\n",
      "torch.float32\n",
      "loss: 1.580883  [    0/60000]\n",
      "torch.float32\n",
      "loss: 1.424347  [ 5000/60000]\n",
      "torch.float32\n",
      "loss: 1.405037  [10000/60000]\n",
      "torch.float32\n",
      "loss: 1.346411  [15000/60000]\n",
      "torch.float32\n",
      "loss: 1.582394  [20000/60000]\n",
      "torch.float32\n",
      "loss: 1.278452  [25000/60000]\n",
      "torch.float32\n",
      "loss: 1.374885  [30000/60000]\n",
      "torch.float32\n",
      "loss: 1.299247  [35000/60000]\n",
      "torch.float32\n",
      "loss: 1.157620  [40000/60000]\n",
      "torch.float32\n",
      "loss: 1.296035  [45000/60000]\n",
      "torch.float32\n",
      "loss: 1.299302  [50000/60000]\n",
      "torch.float32\n",
      "loss: 1.073838  [55000/60000]\n",
      "Test Error: \n",
      " Accuracy: 77.7%, Avg loss: 1.135898 \n",
      "\n"
     ]
    }
   ],
   "source": [
    "for i in range(EPOCH):\n",
    "    print(f'EPOCH {i+1}')\n",
    "    train(train_loader, net, loss_fn, optim)\n",
    "    test(test_loader, net, loss_fn)"
   ]
  },
  {
   "cell_type": "code",
   "execution_count": 38,
   "metadata": {},
   "outputs": [
    {
     "name": "stdout",
     "output_type": "stream",
     "text": [
      "tensor(7) 7\n"
     ]
    },
    {
     "data": {
      "image/png": "[encoded data removed]",
      "text/plain": [
       "<Figure size 432x288 with 1 Axes>"
      ]
     },
     "metadata": {
      "needs_background": "light"
     },
     "output_type": "display_data"
    }
   ],
   "source": [
    "testx, testy = test_data[0][0], test_data[0][1]\n",
    "np_testx = testx[0].numpy()\n",
    "plt.imshow(np_testx)\n",
    "test_pred_y = net(testx)\n",
    "argmax_pred_y = torch.argmax(test_pred_y)\n",
    "print(argmax_pred_y, testy)"
   ]
  },
  {
   "cell_type": "code",
   "execution_count": null,
   "metadata": {},
   "outputs": [],
   "source": []
  }
 ],
 "metadata": {
  "deepnote": {
   "is_reactive": false
  },
  "deepnote_execution_queue": [],
  "deepnote_notebook_id": "162b3558-c247-44f6-9ee9-25004df07fac",
  "interpreter": {
   "hash": "36cf16204b8548560b1c020c4e8fb5b57f0e4c58016f52f2d4be01e192833930"
  },
  "kernelspec": {
   "display_name": "Python 3.9.0 64-bit",
   "name": "python3"
  },
  "language_info": {
   "codemirror_mode": {
    "name": "ipython",
    "version": 3
   },
   "file_extension": ".py",
   "mimetype": "text/x-python",
   "name": "python",
   "nbconvert_exporter": "python",
   "pygments_lexer": "ipython3",
   "version": "3.9.0"
  },
  "orig_nbformat": 2
 },
 "nbformat": 4,
 "nbformat_minor": 2
}
