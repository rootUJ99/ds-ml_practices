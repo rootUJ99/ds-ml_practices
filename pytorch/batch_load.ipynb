{
 "cells": [
  {
   "cell_type": "markdown",
   "source": "Batch Load",
   "metadata": {
    "tags": [],
    "cell_id": "00002-61a391b4-daaa-4d07-a04c-d6c208a397f9",
    "deepnote_cell_type": "markdown"
   }
  },
  {
   "cell_type": "code",
   "source": "import torch\nimport torch.utils.data as Data",
   "metadata": {
    "tags": [],
    "cell_id": "00001-4e9ad4dc-62df-4f77-81e5-aca83ff1626c",
    "deepnote_to_be_reexecuted": false,
    "source_hash": "6686ed3",
    "execution_start": 1635861289731,
    "execution_millis": 0,
    "deepnote_cell_type": "code"
   },
   "outputs": [],
   "execution_count": 1
  },
  {
   "cell_type": "code",
   "source": "x = torch.linspace(1,10,10)\ny = torch.linspace(10,1,10)\ny",
   "metadata": {
    "tags": [],
    "cell_id": "00002-ea6eefcb-4067-45ce-88f7-ab3f2d69fbc7",
    "deepnote_to_be_reexecuted": false,
    "source_hash": "2cae05c6",
    "execution_start": 1635861363920,
    "execution_millis": 8,
    "deepnote_cell_type": "code"
   },
   "outputs": [
    {
     "output_type": "execute_result",
     "execution_count": 3,
     "data": {
      "text/plain": "tensor([10.,  9.,  8.,  7.,  6.,  5.,  4.,  3.,  2.,  1.])"
     },
     "metadata": {}
    }
   ],
   "execution_count": 3
  },
  {
   "cell_type": "code",
   "source": "torch_dataset = Data.TensorDataset(x,y)\nloader = Data.DataLoader(\n    dataset=torch_dataset,\n    batch_size=5,\n    shuffle=True,\n    num_workers=2,\n)\nlist(enumerate(loader))",
   "metadata": {
    "tags": [],
    "cell_id": "00003-91a03800-632d-432a-8789-43341ff2eb50",
    "deepnote_to_be_reexecuted": false,
    "source_hash": "fdd7dc22",
    "execution_start": 1635863238282,
    "execution_millis": 877,
    "deepnote_cell_type": "code"
   },
   "outputs": [
    {
     "output_type": "execute_result",
     "execution_count": 25,
     "data": {
      "text/plain": "[(0, [tensor([ 4.,  5., 10.,  6.,  7.]), tensor([7., 6., 1., 5., 4.])]),\n (1, [tensor([3., 9., 8., 1., 2.]), tensor([ 8.,  2.,  3., 10.,  9.])])]"
     },
     "metadata": {}
    }
   ],
   "execution_count": 25
  },
  {
   "cell_type": "code",
   "source": "def show_batch():\n    for epoch in range(5):\n        for step, [x_batch, y_batch] in enumerate(loader):\n            print('x|', x_batch.numpy(), ' y|', y_batch.numpy(), ' step|', step, ' epoch|', epoch)\n",
   "metadata": {
    "tags": [],
    "cell_id": "00004-81ffd578-2157-41a4-aaab-224005a76475",
    "deepnote_to_be_reexecuted": false,
    "source_hash": "6bfcb7c0",
    "execution_start": 1635863239184,
    "execution_millis": 1,
    "deepnote_cell_type": "code"
   },
   "outputs": [],
   "execution_count": 26
  },
  {
   "cell_type": "code",
   "source": "show_batch()",
   "metadata": {
    "tags": [],
    "cell_id": "00005-65136bd8-240a-4a2b-b99e-24055ada5caa",
    "deepnote_to_be_reexecuted": false,
    "source_hash": "bf899430",
    "execution_start": 1635863241459,
    "execution_millis": 1024,
    "deepnote_cell_type": "code"
   },
   "outputs": [
    {
     "name": "stdout",
     "text": "x| [10.  4.  3.  8.  5.]  y| [1. 7. 8. 3. 6.]  step| 0  epoch| 0\nx| [9. 2. 6. 7. 1.]  y| [ 2.  9.  5.  4. 10.]  step| 1  epoch| 0\nx| [2. 9. 4. 3. 6.]  y| [9. 2. 7. 8. 5.]  step| 0  epoch| 1\nx| [ 5. 10.  8.  1.  7.]  y| [ 6.  1.  3. 10.  4.]  step| 1  epoch| 1\nx| [1. 9. 8. 7. 6.]  y| [10.  2.  3.  4.  5.]  step| 0  epoch| 2\nx| [10.  3.  4.  5.  2.]  y| [1. 8. 7. 6. 9.]  step| 1  epoch| 2\nx| [6. 9. 7. 8. 2.]  y| [5. 2. 4. 3. 9.]  step| 0  epoch| 3\nx| [ 1.  4. 10.  3.  5.]  y| [10.  7.  1.  8.  6.]  step| 1  epoch| 3\nx| [6. 3. 9. 7. 4.]  y| [5. 8. 2. 4. 7.]  step| 0  epoch| 4\nx| [ 5.  1.  2.  8. 10.]  y| [ 6. 10.  9.  3.  1.]  step| 1  epoch| 4\n",
     "output_type": "stream"
    }
   ],
   "execution_count": 27
  },
  {
   "cell_type": "code",
   "source": "",
   "metadata": {
    "tags": [],
    "cell_id": "00006-49ee4586-b6a2-4cfc-acdd-2b23ea3f9243",
    "deepnote_cell_type": "code"
   },
   "outputs": [],
   "execution_count": null
  },
  {
   "cell_type": "markdown",
   "source": "<a style='text-decoration:none;line-height:16px;display:flex;color:#5B5B62;padding:10px;justify-content:end;' href='https://deepnote.com?utm_source=created-in-deepnote-cell&projectId=95fccd86-d9c7-402f-a93f-d5e23e9bc087' target=\"_blank\">\n<img alt='Created in deepnote.com' style='display:inline;max-height:16px;margin:0px;margin-right:7.5px;' src='data:image/svg+xml;base64,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' > </img>\nCreated in <span style='font-weight:600;margin-left:4px;'>Deepnote</span></a>",
   "metadata": {
    "tags": [],
    "created_in_deepnote_cell": true,
    "deepnote_cell_type": "markdown"
   }
  }
 ],
 "nbformat": 4,
 "nbformat_minor": 2,
 "metadata": {
  "orig_nbformat": 2,
  "deepnote": {
   "is_reactive": false
  },
  "deepnote_notebook_id": "1673fa1f-01ec-4d31-881f-56de0ad1eb6d",
  "deepnote_execution_queue": []
 }
}