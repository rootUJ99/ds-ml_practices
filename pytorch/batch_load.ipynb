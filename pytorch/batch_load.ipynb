{
 "cells": [
  {
   "cell_type": "markdown",
   "metadata": {
    "cell_id": "00002-61a391b4-daaa-4d07-a04c-d6c208a397f9",
    "deepnote_cell_type": "markdown",
    "tags": []
   },
   "source": [
    "Batch Load"
   ]
  },
  {
   "cell_type": "code",
   "execution_count": 2,
   "metadata": {
    "cell_id": "00001-4e9ad4dc-62df-4f77-81e5-aca83ff1626c",
    "deepnote_cell_type": "code",
    "deepnote_to_be_reexecuted": false,
    "execution_millis": 0,
    "execution_start": 1635861289731,
    "source_hash": "6686ed3",
    "tags": []
   },
   "outputs": [],
   "source": [
    "import torch\n",
    "import torch.utils.data as Data"
   ]
  },
  {
   "cell_type": "code",
   "execution_count": 3,
   "metadata": {
    "cell_id": "00002-ea6eefcb-4067-45ce-88f7-ab3f2d69fbc7",
    "deepnote_cell_type": "code",
    "deepnote_to_be_reexecuted": false,
    "execution_millis": 8,
    "execution_start": 1635861363920,
    "source_hash": "2cae05c6",
    "tags": []
   },
   "outputs": [
    {
     "name": "stdout",
     "output_type": "stream",
     "text": [
      "tensor([ 1.,  2.,  3.,  4.,  5.,  6.,  7.,  8.,  9., 10.]) tensor([10.,  9.,  8.,  7.,  6.,  5.,  4.,  3.,  2.,  1.])\n"
     ]
    }
   ],
   "source": [
    "x = torch.linspace(1,10,10)\n",
    "y = torch.linspace(10,1,10)\n",
    "print(x,y)"
   ]
  },
  {
   "cell_type": "code",
   "execution_count": 25,
   "metadata": {
    "cell_id": "00003-91a03800-632d-432a-8789-43341ff2eb50",
    "deepnote_cell_type": "code",
    "deepnote_to_be_reexecuted": false,
    "execution_millis": 877,
    "execution_start": 1635863238282,
    "source_hash": "fdd7dc22",
    "tags": []
   },
   "outputs": [
    {
     "data": {
      "text/plain": [
       "[(0, [tensor([ 4.,  5., 10.,  6.,  7.]), tensor([7., 6., 1., 5., 4.])]),\n",
       " (1, [tensor([3., 9., 8., 1., 2.]), tensor([ 8.,  2.,  3., 10.,  9.])])]"
      ]
     },
     "execution_count": 25,
     "metadata": {},
     "output_type": "execute_result"
    }
   ],
   "source": [
    "torch_dataset = Data.TensorDataset(x,y)\n",
    "loader = Data.DataLoader(\n",
    "    dataset=torch_dataset,\n",
    "    batch_size=5,\n",
    "    shuffle=True,\n",
    "    num_workers=2,\n",
    ")\n",
    "list(enumerate(loader))"
   ]
  },
  {
   "cell_type": "code",
   "execution_count": 26,
   "metadata": {
    "cell_id": "00004-81ffd578-2157-41a4-aaab-224005a76475",
    "deepnote_cell_type": "code",
    "deepnote_to_be_reexecuted": false,
    "execution_millis": 1,
    "execution_start": 1635863239184,
    "source_hash": "6bfcb7c0",
    "tags": []
   },
   "outputs": [],
   "source": [
    "def show_batch():\n",
    "    for epoch in range(5):\n",
    "        for step, [x_batch, y_batch] in enumerate(loader):\n",
    "            print('x|', x_batch.numpy(), ' y|', y_batch.numpy(), ' step|', step, ' epoch|', epoch)\n"
   ]
  },
  {
   "cell_type": "code",
   "execution_count": 27,
   "metadata": {
    "cell_id": "00005-65136bd8-240a-4a2b-b99e-24055ada5caa",
    "deepnote_cell_type": "code",
    "deepnote_to_be_reexecuted": false,
    "execution_millis": 1024,
    "execution_start": 1635863241459,
    "source_hash": "bf899430",
    "tags": []
   },
   "outputs": [
    {
     "name": "stdout",
     "output_type": "stream",
     "text": [
      "x| [10.  4.  3.  8.  5.]  y| [1. 7. 8. 3. 6.]  step| 0  epoch| 0\n",
      "x| [9. 2. 6. 7. 1.]  y| [ 2.  9.  5.  4. 10.]  step| 1  epoch| 0\n",
      "x| [2. 9. 4. 3. 6.]  y| [9. 2. 7. 8. 5.]  step| 0  epoch| 1\n",
      "x| [ 5. 10.  8.  1.  7.]  y| [ 6.  1.  3. 10.  4.]  step| 1  epoch| 1\n",
      "x| [1. 9. 8. 7. 6.]  y| [10.  2.  3.  4.  5.]  step| 0  epoch| 2\n",
      "x| [10.  3.  4.  5.  2.]  y| [1. 8. 7. 6. 9.]  step| 1  epoch| 2\n",
      "x| [6. 9. 7. 8. 2.]  y| [5. 2. 4. 3. 9.]  step| 0  epoch| 3\n",
      "x| [ 1.  4. 10.  3.  5.]  y| [10.  7.  1.  8.  6.]  step| 1  epoch| 3\n",
      "x| [6. 3. 9. 7. 4.]  y| [5. 8. 2. 4. 7.]  step| 0  epoch| 4\n",
      "x| [ 5.  1.  2.  8. 10.]  y| [ 6. 10.  9.  3.  1.]  step| 1  epoch| 4\n"
     ]
    }
   ],
   "source": [
    "show_batch()"
   ]
  },
  {
   "cell_type": "code",
   "execution_count": null,
   "metadata": {
    "cell_id": "00006-49ee4586-b6a2-4cfc-acdd-2b23ea3f9243",
    "deepnote_cell_type": "code",
    "tags": []
   },
   "outputs": [],
   "source": []
  }
 ],
 "metadata": {
  "deepnote": {
   "is_reactive": false
  },
  "deepnote_execution_queue": [],
  "deepnote_notebook_id": "1673fa1f-01ec-4d31-881f-56de0ad1eb6d",
  "interpreter": {
   "hash": "36cf16204b8548560b1c020c4e8fb5b57f0e4c58016f52f2d4be01e192833930"
  },
  "kernelspec": {
   "display_name": "Python 3.9.0 64-bit",
   "language": "python",
   "name": "python3"
  },
  "language_info": {
   "codemirror_mode": {
    "name": "ipython",
    "version": 3
   },
   "file_extension": ".py",
   "mimetype": "text/x-python",
   "name": "python",
   "nbconvert_exporter": "python",
   "pygments_lexer": "ipython3",
   "version": "3.9.0+"
  },
  "orig_nbformat": 2
 },
 "nbformat": 4,
 "nbformat_minor": 2
}
