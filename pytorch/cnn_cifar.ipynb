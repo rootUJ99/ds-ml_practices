{
 "cells": [
  {
   "cell_type": "code",
   "execution_count": 104,
   "metadata": {},
   "outputs": [],
   "source": [
    "import torch\n",
    "import torch.nn as nn\n",
    "from torchvision import models\n",
    "from torchvision.transforms import Compose, ToTensor, Normalize\n",
    "import matplotlib.pyplot as plt\n",
    "import numpy as np\n",
    "from torchvision.datasets import CIFAR10\n",
    "from torch.utils.data import DataLoader\n",
    "import os"
   ]
  },
  {
   "cell_type": "code",
   "execution_count": 105,
   "metadata": {},
   "outputs": [],
   "source": [
    "EPOCH = 5\n",
    "BATCHSIZE = 4\n",
    "LR = 0.001\n",
    "DOWNLOAD_DATA = True"
   ]
  },
  {
   "cell_type": "code",
   "execution_count": 106,
   "metadata": {},
   "outputs": [],
   "source": [
    "transforms = Compose([\n",
    "    ToTensor(),\n",
    "    Normalize((0.5, 0.5, 0.5), (0.5, 0.5, 0.5)),\n",
    "])"
   ]
  },
  {
   "cell_type": "code",
   "execution_count": 107,
   "metadata": {},
   "outputs": [],
   "source": [
    "if os.path.exists('./data/cifar-10-batches-py'): DOWNLOAD_DATA = False"
   ]
  },
  {
   "cell_type": "code",
   "execution_count": 108,
   "metadata": {},
   "outputs": [],
   "source": [
    "train_data = CIFAR10(\n",
    "    root=\"./data\",\n",
    "    transform=transforms,\n",
    "    download=DOWNLOAD_DATA,\n",
    "    train=True,\n",
    "    )\n",
    "\n",
    "test_data = CIFAR10(\n",
    "    root=\"./data\",\n",
    "    transform=transforms,\n",
    "    download=DOWNLOAD_DATA,\n",
    "    train=False\n",
    ")"
   ]
  },
  {
   "cell_type": "code",
   "execution_count": 109,
   "metadata": {},
   "outputs": [
    {
     "data": {
      "text/plain": [
       "<torch.utils.data.dataloader.DataLoader at 0x7f852cbedd90>"
      ]
     },
     "execution_count": 109,
     "metadata": {},
     "output_type": "execute_result"
    }
   ],
   "source": [
    "train_loader = DataLoader(\n",
    "    train_data,\n",
    "    batch_size=BATCHSIZE,\n",
    "    shuffle=True,\n",
    ")\n",
    "test_loader = DataLoader(\n",
    "    test_data,\n",
    "    batch_size=BATCHSIZE,\n",
    "    shuffle=True,\n",
    ")\n",
    "train_loader"
   ]
  },
  {
   "cell_type": "code",
   "execution_count": 110,
   "metadata": {},
   "outputs": [
    {
     "name": "stdout",
     "output_type": "stream",
     "text": [
      "torch.Size([4, 3, 32, 32]) torch.Size([4])\n"
     ]
    },
    {
     "data": {
      "image/png": "[encoded data removed]",
      "text/plain": [
       "<Figure size 432x288 with 1 Axes>"
      ]
     },
     "metadata": {
      "needs_background": "light"
     },
     "output_type": "display_data"
    }
   ],
   "source": [
    "for x, y in test_loader:\n",
    "    print(x.shape, y.shape)\n",
    "    plt.imshow(x[0][0])\n",
    "    break"
   ]
  },
  {
   "cell_type": "code",
   "execution_count": 111,
   "metadata": {},
   "outputs": [],
   "source": [
    "class Net(nn.Module):\n",
    "    def __init__(self):\n",
    "        super(Net, self).__init__()\n",
    "        self.conv_layers = nn.Sequential(\n",
    "            nn.Conv2d(3,6,5), \n",
    "            nn.MaxPool2d(2),\n",
    "            nn.ReLU(),\n",
    "            nn.Conv2d(6,16,5), \n",
    "            nn.MaxPool2d(2),\n",
    "        )\n",
    "        self.deep_net = nn.Sequential(\n",
    "            nn.Linear(16*5*5, 120),\n",
    "            nn.ReLU(),\n",
    "            nn.Linear(120, 84),\n",
    "            nn.ReLU(),\n",
    "            nn.Linear(84, 10),\n",
    "        )\n",
    "    def forward(self, x):\n",
    "        x = self.conv_layers(x)\n",
    "        x = x.view(-1, 16 * 5 * 5)\n",
    "        x = self.deep_net(x)\n",
    "        return x"
   ]
  },
  {
   "cell_type": "code",
   "execution_count": 117,
   "metadata": {},
   "outputs": [],
   "source": [
    "net = Net()\n",
    "# net = models.resnet18(pretrained=True)\n"
   ]
  },
  {
   "cell_type": "code",
   "execution_count": 118,
   "metadata": {},
   "outputs": [],
   "source": [
    "optim = torch.optim.Adam(net.parameters(), lr=LR)\n",
    "loss_fn = nn.CrossEntropyLoss()"
   ]
  },
  {
   "cell_type": "code",
   "execution_count": 119,
   "metadata": {},
   "outputs": [],
   "source": [
    "def train(dataloader, model, loss_fn, optim):\n",
    "    model.train()\n",
    "    size = len(dataloader.dataset)\n",
    "    for step, (x,y) in enumerate(dataloader):\n",
    "        y_pred = model(x)\n",
    "        loss = loss_fn(y_pred, y)\n",
    "        optim.zero_grad()\n",
    "        loss.backward()\n",
    "        optim.step()\n",
    "\n",
    "        if step % 1000 == 0:\n",
    "            loss, current = loss.item(), step * len(x)\n",
    "            print(f'Loss {loss:7f} {current:>5d} / {size:>5d}')\n",
    "\n"
   ]
  },
  {
   "cell_type": "code",
   "execution_count": 120,
   "metadata": {},
   "outputs": [],
   "source": [
    "def test(dataloader, model, loss_fn):\n",
    "    model.eval()\n",
    "    size = len(dataloader.dataset)\n",
    "    num_batches = len(dataloader)\n",
    "    test_loss, correct = 0, 0\n",
    "    with torch.no_grad():\n",
    "        for x, y in dataloader:\n",
    "            y_pred = model(x)\n",
    "            test_loss += loss_fn(y_pred, y).item()\n",
    "            correct += (y_pred.argmax(1) == y).type(torch.float).sum().item()\n",
    "        test_loss /= num_batches\n",
    "        correct /= size\n",
    "        print(f'Accuracy {(100*correct):>0.1f}% Average Loss {test_loss:>8f}\\n')"
   ]
  },
  {
   "cell_type": "code",
   "execution_count": 121,
   "metadata": {},
   "outputs": [
    {
     "name": "stdout",
     "output_type": "stream",
     "text": [
      "---1---\n",
      "Loss 2.283831     0 / 50000\n",
      "Loss 1.823111  4000 / 50000\n",
      "Loss 1.731058  8000 / 50000\n",
      "Loss 1.679832 12000 / 50000\n",
      "Loss 1.429509 16000 / 50000\n",
      "Loss 0.994985 20000 / 50000\n",
      "Loss 1.604383 24000 / 50000\n",
      "Loss 1.307242 28000 / 50000\n",
      "Loss 1.657388 32000 / 50000\n",
      "Loss 1.043709 36000 / 50000\n",
      "Loss 0.668164 40000 / 50000\n",
      "Loss 1.478731 44000 / 50000\n",
      "Loss 1.148186 48000 / 50000\n",
      "Accuracy 54.1% Average Loss 1.292760\n",
      "\n",
      "---2---\n",
      "Loss 1.151972     0 / 50000\n",
      "Loss 1.372321  4000 / 50000\n",
      "Loss 1.667915  8000 / 50000\n",
      "Loss 0.450480 12000 / 50000\n",
      "Loss 0.681391 16000 / 50000\n",
      "Loss 1.483456 20000 / 50000\n",
      "Loss 1.957498 24000 / 50000\n",
      "Loss 1.215411 28000 / 50000\n",
      "Loss 2.394418 32000 / 50000\n",
      "Loss 1.325554 36000 / 50000\n",
      "Loss 2.426278 40000 / 50000\n",
      "Loss 0.333637 44000 / 50000\n",
      "Loss 1.634642 48000 / 50000\n",
      "Accuracy 58.2% Average Loss 1.193043\n",
      "\n",
      "---3---\n",
      "Loss 1.480635     0 / 50000\n",
      "Loss 1.051026  4000 / 50000\n",
      "Loss 0.350538  8000 / 50000\n",
      "Loss 0.801665 12000 / 50000\n",
      "Loss 1.076990 16000 / 50000\n",
      "Loss 0.773817 20000 / 50000\n",
      "Loss 0.999683 24000 / 50000\n",
      "Loss 0.868017 28000 / 50000\n",
      "Loss 1.040835 32000 / 50000\n",
      "Loss 0.427605 36000 / 50000\n",
      "Loss 0.851063 40000 / 50000\n",
      "Loss 0.933946 44000 / 50000\n",
      "Loss 0.390126 48000 / 50000\n",
      "Accuracy 59.0% Average Loss 1.171290\n",
      "\n",
      "---4---\n",
      "Loss 1.510399     0 / 50000\n",
      "Loss 0.732519  4000 / 50000\n",
      "Loss 0.438618  8000 / 50000\n",
      "Loss 1.996542 12000 / 50000\n",
      "Loss 0.820570 16000 / 50000\n",
      "Loss 1.263080 20000 / 50000\n",
      "Loss 2.092794 24000 / 50000\n",
      "Loss 0.119897 28000 / 50000\n",
      "Loss 0.553641 32000 / 50000\n",
      "Loss 1.049171 36000 / 50000\n",
      "Loss 1.687116 40000 / 50000\n",
      "Loss 1.142222 44000 / 50000\n",
      "Loss 1.944296 48000 / 50000\n",
      "Accuracy 59.4% Average Loss 1.163421\n",
      "\n",
      "---5---\n",
      "Loss 0.746420     0 / 50000\n",
      "Loss 1.376268  4000 / 50000\n",
      "Loss 2.934909  8000 / 50000\n",
      "Loss 1.265745 12000 / 50000\n",
      "Loss 1.061227 16000 / 50000\n",
      "Loss 0.496906 20000 / 50000\n",
      "Loss 0.827527 24000 / 50000\n",
      "Loss 1.523740 28000 / 50000\n",
      "Loss 1.132520 32000 / 50000\n",
      "Loss 0.058208 36000 / 50000\n",
      "Loss 1.317589 40000 / 50000\n",
      "Loss 1.697618 44000 / 50000\n",
      "Loss 0.180207 48000 / 50000\n",
      "Accuracy 61.8% Average Loss 1.142343\n",
      "\n"
     ]
    }
   ],
   "source": [
    "for i in range(EPOCH):\n",
    "    print(f'---{i + 1}---')\n",
    "    train(train_loader, net, loss_fn, optim)\n",
    "    test(test_loader, net, loss_fn)"
   ]
  },
  {
   "cell_type": "code",
   "execution_count": 122,
   "metadata": {},
   "outputs": [
    {
     "name": "stdout",
     "output_type": "stream",
     "text": [
      "8 tensor(8)\n"
     ]
    },
    {
     "data": {
      "image/png": "[encoded data removed]",
      "text/plain": [
       "<Figure size 432x288 with 1 Axes>"
      ]
     },
     "metadata": {
      "needs_background": "light"
     },
     "output_type": "display_data"
    }
   ],
   "source": [
    "testx, testy = test_data[15][0], test_data[15][1]\n",
    "\n",
    "np_testx = testx[0].numpy()\n",
    "plt.imshow(np_testx)\n",
    "test_pred_y = net(testx[None,...])\n",
    "argmax_pred_y = torch.argmax(test_pred_y)\n",
    "print(testy, argmax_pred_y)\n"
   ]
  },
  {
   "cell_type": "code",
   "execution_count": null,
   "metadata": {},
   "outputs": [],
   "source": []
  }
 ],
 "metadata": {
  "interpreter": {
   "hash": "36cf16204b8548560b1c020c4e8fb5b57f0e4c58016f52f2d4be01e192833930"
  },
  "kernelspec": {
   "display_name": "Python 3.9.0 64-bit",
   "language": "python",
   "name": "python3"
  },
  "language_info": {
   "codemirror_mode": {
    "name": "ipython",
    "version": 3
   },
   "file_extension": ".py",
   "mimetype": "text/x-python",
   "name": "python",
   "nbconvert_exporter": "python",
   "pygments_lexer": "ipython3",
   "version": "3.9.0+"
  },
  "orig_nbformat": 4
 },
 "nbformat": 4,
 "nbformat_minor": 2
}
