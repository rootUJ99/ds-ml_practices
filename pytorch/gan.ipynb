{
 "cells": [
  {
   "cell_type": "code",
   "execution_count": 10,
   "metadata": {},
   "outputs": [],
   "source": [
    "import torch \n",
    "import torch.nn as nn\n",
    "import matplotlib.pyplot as plt\n",
    "import numpy as np\n"
   ]
  },
  {
   "cell_type": "code",
   "execution_count": 26,
   "metadata": {},
   "outputs": [],
   "source": [
    "BATCH_SIZE = 64\n",
    "LR = 0.0001\n",
    "N_IDEAS = 5\n",
    "ART_COMPONENTS = 15\n",
    "PAINT_POINTS = np.vstack([np.linspace(-1,1, ART_COMPONENTS) for _ in range(BATCH_SIZE)])"
   ]
  },
  {
   "cell_type": "code",
   "execution_count": 27,
   "metadata": {},
   "outputs": [
    {
     "data": {
      "text/plain": [
       "array([[-1.        , -0.85714286, -0.71428571, -0.57142857, -0.42857143,\n",
       "        -0.28571429, -0.14285714,  0.        ,  0.14285714,  0.28571429,\n",
       "         0.42857143,  0.57142857,  0.71428571,  0.85714286,  1.        ],\n",
       "       [-1.        , -0.85714286, -0.71428571, -0.57142857, -0.42857143,\n",
       "        -0.28571429, -0.14285714,  0.        ,  0.14285714,  0.28571429,\n",
       "         0.42857143,  0.57142857,  0.71428571,  0.85714286,  1.        ],\n",
       "       [-1.        , -0.85714286, -0.71428571, -0.57142857, -0.42857143,\n",
       "        -0.28571429, -0.14285714,  0.        ,  0.14285714,  0.28571429,\n",
       "         0.42857143,  0.57142857,  0.71428571,  0.85714286,  1.        ],\n",
       "       [-1.        , -0.85714286, -0.71428571, -0.57142857, -0.42857143,\n",
       "        -0.28571429, -0.14285714,  0.        ,  0.14285714,  0.28571429,\n",
       "         0.42857143,  0.57142857,  0.71428571,  0.85714286,  1.        ],\n",
       "       [-1.        , -0.85714286, -0.71428571, -0.57142857, -0.42857143,\n",
       "        -0.28571429, -0.14285714,  0.        ,  0.14285714,  0.28571429,\n",
       "         0.42857143,  0.57142857,  0.71428571,  0.85714286,  1.        ],\n",
       "       [-1.        , -0.85714286, -0.71428571, -0.57142857, -0.42857143,\n",
       "        -0.28571429, -0.14285714,  0.        ,  0.14285714,  0.28571429,\n",
       "         0.42857143,  0.57142857,  0.71428571,  0.85714286,  1.        ],\n",
       "       [-1.        , -0.85714286, -0.71428571, -0.57142857, -0.42857143,\n",
       "        -0.28571429, -0.14285714,  0.        ,  0.14285714,  0.28571429,\n",
       "         0.42857143,  0.57142857,  0.71428571,  0.85714286,  1.        ],\n",
       "       [-1.        , -0.85714286, -0.71428571, -0.57142857, -0.42857143,\n",
       "        -0.28571429, -0.14285714,  0.        ,  0.14285714,  0.28571429,\n",
       "         0.42857143,  0.57142857,  0.71428571,  0.85714286,  1.        ],\n",
       "       [-1.        , -0.85714286, -0.71428571, -0.57142857, -0.42857143,\n",
       "        -0.28571429, -0.14285714,  0.        ,  0.14285714,  0.28571429,\n",
       "         0.42857143,  0.57142857,  0.71428571,  0.85714286,  1.        ],\n",
       "       [-1.        , -0.85714286, -0.71428571, -0.57142857, -0.42857143,\n",
       "        -0.28571429, -0.14285714,  0.        ,  0.14285714,  0.28571429,\n",
       "         0.42857143,  0.57142857,  0.71428571,  0.85714286,  1.        ],\n",
       "       [-1.        , -0.85714286, -0.71428571, -0.57142857, -0.42857143,\n",
       "        -0.28571429, -0.14285714,  0.        ,  0.14285714,  0.28571429,\n",
       "         0.42857143,  0.57142857,  0.71428571,  0.85714286,  1.        ],\n",
       "       [-1.        , -0.85714286, -0.71428571, -0.57142857, -0.42857143,\n",
       "        -0.28571429, -0.14285714,  0.        ,  0.14285714,  0.28571429,\n",
       "         0.42857143,  0.57142857,  0.71428571,  0.85714286,  1.        ],\n",
       "       [-1.        , -0.85714286, -0.71428571, -0.57142857, -0.42857143,\n",
       "        -0.28571429, -0.14285714,  0.        ,  0.14285714,  0.28571429,\n",
       "         0.42857143,  0.57142857,  0.71428571,  0.85714286,  1.        ],\n",
       "       [-1.        , -0.85714286, -0.71428571, -0.57142857, -0.42857143,\n",
       "        -0.28571429, -0.14285714,  0.        ,  0.14285714,  0.28571429,\n",
       "         0.42857143,  0.57142857,  0.71428571,  0.85714286,  1.        ],\n",
       "       [-1.        , -0.85714286, -0.71428571, -0.57142857, -0.42857143,\n",
       "        -0.28571429, -0.14285714,  0.        ,  0.14285714,  0.28571429,\n",
       "         0.42857143,  0.57142857,  0.71428571,  0.85714286,  1.        ],\n",
       "       [-1.        , -0.85714286, -0.71428571, -0.57142857, -0.42857143,\n",
       "        -0.28571429, -0.14285714,  0.        ,  0.14285714,  0.28571429,\n",
       "         0.42857143,  0.57142857,  0.71428571,  0.85714286,  1.        ],\n",
       "       [-1.        , -0.85714286, -0.71428571, -0.57142857, -0.42857143,\n",
       "        -0.28571429, -0.14285714,  0.        ,  0.14285714,  0.28571429,\n",
       "         0.42857143,  0.57142857,  0.71428571,  0.85714286,  1.        ],\n",
       "       [-1.        , -0.85714286, -0.71428571, -0.57142857, -0.42857143,\n",
       "        -0.28571429, -0.14285714,  0.        ,  0.14285714,  0.28571429,\n",
       "         0.42857143,  0.57142857,  0.71428571,  0.85714286,  1.        ],\n",
       "       [-1.        , -0.85714286, -0.71428571, -0.57142857, -0.42857143,\n",
       "        -0.28571429, -0.14285714,  0.        ,  0.14285714,  0.28571429,\n",
       "         0.42857143,  0.57142857,  0.71428571,  0.85714286,  1.        ],\n",
       "       [-1.        , -0.85714286, -0.71428571, -0.57142857, -0.42857143,\n",
       "        -0.28571429, -0.14285714,  0.        ,  0.14285714,  0.28571429,\n",
       "         0.42857143,  0.57142857,  0.71428571,  0.85714286,  1.        ],\n",
       "       [-1.        , -0.85714286, -0.71428571, -0.57142857, -0.42857143,\n",
       "        -0.28571429, -0.14285714,  0.        ,  0.14285714,  0.28571429,\n",
       "         0.42857143,  0.57142857,  0.71428571,  0.85714286,  1.        ],\n",
       "       [-1.        , -0.85714286, -0.71428571, -0.57142857, -0.42857143,\n",
       "        -0.28571429, -0.14285714,  0.        ,  0.14285714,  0.28571429,\n",
       "         0.42857143,  0.57142857,  0.71428571,  0.85714286,  1.        ],\n",
       "       [-1.        , -0.85714286, -0.71428571, -0.57142857, -0.42857143,\n",
       "        -0.28571429, -0.14285714,  0.        ,  0.14285714,  0.28571429,\n",
       "         0.42857143,  0.57142857,  0.71428571,  0.85714286,  1.        ],\n",
       "       [-1.        , -0.85714286, -0.71428571, -0.57142857, -0.42857143,\n",
       "        -0.28571429, -0.14285714,  0.        ,  0.14285714,  0.28571429,\n",
       "         0.42857143,  0.57142857,  0.71428571,  0.85714286,  1.        ],\n",
       "       [-1.        , -0.85714286, -0.71428571, -0.57142857, -0.42857143,\n",
       "        -0.28571429, -0.14285714,  0.        ,  0.14285714,  0.28571429,\n",
       "         0.42857143,  0.57142857,  0.71428571,  0.85714286,  1.        ],\n",
       "       [-1.        , -0.85714286, -0.71428571, -0.57142857, -0.42857143,\n",
       "        -0.28571429, -0.14285714,  0.        ,  0.14285714,  0.28571429,\n",
       "         0.42857143,  0.57142857,  0.71428571,  0.85714286,  1.        ],\n",
       "       [-1.        , -0.85714286, -0.71428571, -0.57142857, -0.42857143,\n",
       "        -0.28571429, -0.14285714,  0.        ,  0.14285714,  0.28571429,\n",
       "         0.42857143,  0.57142857,  0.71428571,  0.85714286,  1.        ],\n",
       "       [-1.        , -0.85714286, -0.71428571, -0.57142857, -0.42857143,\n",
       "        -0.28571429, -0.14285714,  0.        ,  0.14285714,  0.28571429,\n",
       "         0.42857143,  0.57142857,  0.71428571,  0.85714286,  1.        ],\n",
       "       [-1.        , -0.85714286, -0.71428571, -0.57142857, -0.42857143,\n",
       "        -0.28571429, -0.14285714,  0.        ,  0.14285714,  0.28571429,\n",
       "         0.42857143,  0.57142857,  0.71428571,  0.85714286,  1.        ],\n",
       "       [-1.        , -0.85714286, -0.71428571, -0.57142857, -0.42857143,\n",
       "        -0.28571429, -0.14285714,  0.        ,  0.14285714,  0.28571429,\n",
       "         0.42857143,  0.57142857,  0.71428571,  0.85714286,  1.        ],\n",
       "       [-1.        , -0.85714286, -0.71428571, -0.57142857, -0.42857143,\n",
       "        -0.28571429, -0.14285714,  0.        ,  0.14285714,  0.28571429,\n",
       "         0.42857143,  0.57142857,  0.71428571,  0.85714286,  1.        ],\n",
       "       [-1.        , -0.85714286, -0.71428571, -0.57142857, -0.42857143,\n",
       "        -0.28571429, -0.14285714,  0.        ,  0.14285714,  0.28571429,\n",
       "         0.42857143,  0.57142857,  0.71428571,  0.85714286,  1.        ],\n",
       "       [-1.        , -0.85714286, -0.71428571, -0.57142857, -0.42857143,\n",
       "        -0.28571429, -0.14285714,  0.        ,  0.14285714,  0.28571429,\n",
       "         0.42857143,  0.57142857,  0.71428571,  0.85714286,  1.        ],\n",
       "       [-1.        , -0.85714286, -0.71428571, -0.57142857, -0.42857143,\n",
       "        -0.28571429, -0.14285714,  0.        ,  0.14285714,  0.28571429,\n",
       "         0.42857143,  0.57142857,  0.71428571,  0.85714286,  1.        ],\n",
       "       [-1.        , -0.85714286, -0.71428571, -0.57142857, -0.42857143,\n",
       "        -0.28571429, -0.14285714,  0.        ,  0.14285714,  0.28571429,\n",
       "         0.42857143,  0.57142857,  0.71428571,  0.85714286,  1.        ],\n",
       "       [-1.        , -0.85714286, -0.71428571, -0.57142857, -0.42857143,\n",
       "        -0.28571429, -0.14285714,  0.        ,  0.14285714,  0.28571429,\n",
       "         0.42857143,  0.57142857,  0.71428571,  0.85714286,  1.        ],\n",
       "       [-1.        , -0.85714286, -0.71428571, -0.57142857, -0.42857143,\n",
       "        -0.28571429, -0.14285714,  0.        ,  0.14285714,  0.28571429,\n",
       "         0.42857143,  0.57142857,  0.71428571,  0.85714286,  1.        ],\n",
       "       [-1.        , -0.85714286, -0.71428571, -0.57142857, -0.42857143,\n",
       "        -0.28571429, -0.14285714,  0.        ,  0.14285714,  0.28571429,\n",
       "         0.42857143,  0.57142857,  0.71428571,  0.85714286,  1.        ],\n",
       "       [-1.        , -0.85714286, -0.71428571, -0.57142857, -0.42857143,\n",
       "        -0.28571429, -0.14285714,  0.        ,  0.14285714,  0.28571429,\n",
       "         0.42857143,  0.57142857,  0.71428571,  0.85714286,  1.        ],\n",
       "       [-1.        , -0.85714286, -0.71428571, -0.57142857, -0.42857143,\n",
       "        -0.28571429, -0.14285714,  0.        ,  0.14285714,  0.28571429,\n",
       "         0.42857143,  0.57142857,  0.71428571,  0.85714286,  1.        ],\n",
       "       [-1.        , -0.85714286, -0.71428571, -0.57142857, -0.42857143,\n",
       "        -0.28571429, -0.14285714,  0.        ,  0.14285714,  0.28571429,\n",
       "         0.42857143,  0.57142857,  0.71428571,  0.85714286,  1.        ],\n",
       "       [-1.        , -0.85714286, -0.71428571, -0.57142857, -0.42857143,\n",
       "        -0.28571429, -0.14285714,  0.        ,  0.14285714,  0.28571429,\n",
       "         0.42857143,  0.57142857,  0.71428571,  0.85714286,  1.        ],\n",
       "       [-1.        , -0.85714286, -0.71428571, -0.57142857, -0.42857143,\n",
       "        -0.28571429, -0.14285714,  0.        ,  0.14285714,  0.28571429,\n",
       "         0.42857143,  0.57142857,  0.71428571,  0.85714286,  1.        ],\n",
       "       [-1.        , -0.85714286, -0.71428571, -0.57142857, -0.42857143,\n",
       "        -0.28571429, -0.14285714,  0.        ,  0.14285714,  0.28571429,\n",
       "         0.42857143,  0.57142857,  0.71428571,  0.85714286,  1.        ],\n",
       "       [-1.        , -0.85714286, -0.71428571, -0.57142857, -0.42857143,\n",
       "        -0.28571429, -0.14285714,  0.        ,  0.14285714,  0.28571429,\n",
       "         0.42857143,  0.57142857,  0.71428571,  0.85714286,  1.        ],\n",
       "       [-1.        , -0.85714286, -0.71428571, -0.57142857, -0.42857143,\n",
       "        -0.28571429, -0.14285714,  0.        ,  0.14285714,  0.28571429,\n",
       "         0.42857143,  0.57142857,  0.71428571,  0.85714286,  1.        ],\n",
       "       [-1.        , -0.85714286, -0.71428571, -0.57142857, -0.42857143,\n",
       "        -0.28571429, -0.14285714,  0.        ,  0.14285714,  0.28571429,\n",
       "         0.42857143,  0.57142857,  0.71428571,  0.85714286,  1.        ],\n",
       "       [-1.        , -0.85714286, -0.71428571, -0.57142857, -0.42857143,\n",
       "        -0.28571429, -0.14285714,  0.        ,  0.14285714,  0.28571429,\n",
       "         0.42857143,  0.57142857,  0.71428571,  0.85714286,  1.        ],\n",
       "       [-1.        , -0.85714286, -0.71428571, -0.57142857, -0.42857143,\n",
       "        -0.28571429, -0.14285714,  0.        ,  0.14285714,  0.28571429,\n",
       "         0.42857143,  0.57142857,  0.71428571,  0.85714286,  1.        ],\n",
       "       [-1.        , -0.85714286, -0.71428571, -0.57142857, -0.42857143,\n",
       "        -0.28571429, -0.14285714,  0.        ,  0.14285714,  0.28571429,\n",
       "         0.42857143,  0.57142857,  0.71428571,  0.85714286,  1.        ],\n",
       "       [-1.        , -0.85714286, -0.71428571, -0.57142857, -0.42857143,\n",
       "        -0.28571429, -0.14285714,  0.        ,  0.14285714,  0.28571429,\n",
       "         0.42857143,  0.57142857,  0.71428571,  0.85714286,  1.        ],\n",
       "       [-1.        , -0.85714286, -0.71428571, -0.57142857, -0.42857143,\n",
       "        -0.28571429, -0.14285714,  0.        ,  0.14285714,  0.28571429,\n",
       "         0.42857143,  0.57142857,  0.71428571,  0.85714286,  1.        ],\n",
       "       [-1.        , -0.85714286, -0.71428571, -0.57142857, -0.42857143,\n",
       "        -0.28571429, -0.14285714,  0.        ,  0.14285714,  0.28571429,\n",
       "         0.42857143,  0.57142857,  0.71428571,  0.85714286,  1.        ],\n",
       "       [-1.        , -0.85714286, -0.71428571, -0.57142857, -0.42857143,\n",
       "        -0.28571429, -0.14285714,  0.        ,  0.14285714,  0.28571429,\n",
       "         0.42857143,  0.57142857,  0.71428571,  0.85714286,  1.        ],\n",
       "       [-1.        , -0.85714286, -0.71428571, -0.57142857, -0.42857143,\n",
       "        -0.28571429, -0.14285714,  0.        ,  0.14285714,  0.28571429,\n",
       "         0.42857143,  0.57142857,  0.71428571,  0.85714286,  1.        ],\n",
       "       [-1.        , -0.85714286, -0.71428571, -0.57142857, -0.42857143,\n",
       "        -0.28571429, -0.14285714,  0.        ,  0.14285714,  0.28571429,\n",
       "         0.42857143,  0.57142857,  0.71428571,  0.85714286,  1.        ],\n",
       "       [-1.        , -0.85714286, -0.71428571, -0.57142857, -0.42857143,\n",
       "        -0.28571429, -0.14285714,  0.        ,  0.14285714,  0.28571429,\n",
       "         0.42857143,  0.57142857,  0.71428571,  0.85714286,  1.        ],\n",
       "       [-1.        , -0.85714286, -0.71428571, -0.57142857, -0.42857143,\n",
       "        -0.28571429, -0.14285714,  0.        ,  0.14285714,  0.28571429,\n",
       "         0.42857143,  0.57142857,  0.71428571,  0.85714286,  1.        ],\n",
       "       [-1.        , -0.85714286, -0.71428571, -0.57142857, -0.42857143,\n",
       "        -0.28571429, -0.14285714,  0.        ,  0.14285714,  0.28571429,\n",
       "         0.42857143,  0.57142857,  0.71428571,  0.85714286,  1.        ],\n",
       "       [-1.        , -0.85714286, -0.71428571, -0.57142857, -0.42857143,\n",
       "        -0.28571429, -0.14285714,  0.        ,  0.14285714,  0.28571429,\n",
       "         0.42857143,  0.57142857,  0.71428571,  0.85714286,  1.        ],\n",
       "       [-1.        , -0.85714286, -0.71428571, -0.57142857, -0.42857143,\n",
       "        -0.28571429, -0.14285714,  0.        ,  0.14285714,  0.28571429,\n",
       "         0.42857143,  0.57142857,  0.71428571,  0.85714286,  1.        ],\n",
       "       [-1.        , -0.85714286, -0.71428571, -0.57142857, -0.42857143,\n",
       "        -0.28571429, -0.14285714,  0.        ,  0.14285714,  0.28571429,\n",
       "         0.42857143,  0.57142857,  0.71428571,  0.85714286,  1.        ],\n",
       "       [-1.        , -0.85714286, -0.71428571, -0.57142857, -0.42857143,\n",
       "        -0.28571429, -0.14285714,  0.        ,  0.14285714,  0.28571429,\n",
       "         0.42857143,  0.57142857,  0.71428571,  0.85714286,  1.        ],\n",
       "       [-1.        , -0.85714286, -0.71428571, -0.57142857, -0.42857143,\n",
       "        -0.28571429, -0.14285714,  0.        ,  0.14285714,  0.28571429,\n",
       "         0.42857143,  0.57142857,  0.71428571,  0.85714286,  1.        ]])"
      ]
     },
     "execution_count": 27,
     "metadata": {},
     "output_type": "execute_result"
    }
   ],
   "source": [
    "PAINT_POINTS"
   ]
  },
  {
   "cell_type": "code",
   "execution_count": 28,
   "metadata": {},
   "outputs": [
    {
     "data": {
      "text/plain": [
       "(15,)"
      ]
     },
     "execution_count": 28,
     "metadata": {},
     "output_type": "execute_result"
    }
   ],
   "source": [
    "PAINT_POINTS[0].shape"
   ]
  },
  {
   "cell_type": "code",
   "execution_count": 29,
   "metadata": {},
   "outputs": [
    {
     "data": {
      "image/png": "[encoded data removed]",
      "text/plain": [
       "<Figure size 432x288 with 1 Axes>"
      ]
     },
     "metadata": {
      "needs_background": "light"
     },
     "output_type": "display_data"
    }
   ],
   "source": [
    "plt.plot(PAINT_POINTS[0], 2 * np.power(PAINT_POINTS[0], 2) + 1, c='#74BCFF', lw=3, label='upper bound')\n",
    "plt.plot(PAINT_POINTS[0], 1 * np.power(PAINT_POINTS[0], 2) + 0, c='#FF9359', lw=3, label='lower bound')\n",
    "plt.legend(loc='upper right')\n",
    "plt.show()"
   ]
  },
  {
   "cell_type": "code",
   "execution_count": 36,
   "metadata": {},
   "outputs": [],
   "source": [
    "def artist_work():\n",
    "    a = np.random.uniform(1, 2, size=BATCH_SIZE)[:, np.newaxis]\n",
    "    paintings = a * np.power(PAINT_POINTS, 2) + a-1\n",
    "    paintings = torch.from_numpy(paintings).float()\n",
    "    return paintings"
   ]
  },
  {
   "cell_type": "code",
   "execution_count": 37,
   "metadata": {},
   "outputs": [
    {
     "data": {
      "text/plain": [
       "torch.Size([64, 15])"
      ]
     },
     "execution_count": 37,
     "metadata": {},
     "output_type": "execute_result"
    }
   ],
   "source": [
    "artist_work().shape"
   ]
  },
  {
   "cell_type": "code",
   "execution_count": 38,
   "metadata": {},
   "outputs": [],
   "source": [
    "G = nn.Sequential(\n",
    "    nn.Linear(N_IDEAS, 128),\n",
    "    nn.ReLU(),\n",
    "    nn.Linear(128, ART_COMPONENTS),\n",
    ")\n",
    "\n",
    "D = nn.Sequential(\n",
    "    nn.Linear(ART_COMPONENTS, 128),\n",
    "    nn.ReLU(),\n",
    "    nn.Linear(128, 1),\n",
    "    nn.Sigmoid(),\n",
    ")"
   ]
  },
  {
   "cell_type": "code",
   "execution_count": 39,
   "metadata": {},
   "outputs": [],
   "source": [
    "optim_d = torch.optim.Adam(D.parameters(), lr=LR)\n",
    "optim_g = torch.optim.Adam(G.parameters(), lr=LR)"
   ]
  },
  {
   "cell_type": "code",
   "execution_count": 40,
   "metadata": {},
   "outputs": [
    {
     "data": {
      "text/plain": [
       "<matplotlib.pyplot._IonContext at 0x7f3b7cb29370>"
      ]
     },
     "execution_count": 40,
     "metadata": {},
     "output_type": "execute_result"
    }
   ],
   "source": [
    "plt.ion()"
   ]
  },
  {
   "cell_type": "code",
   "execution_count": null,
   "metadata": {},
   "outputs": [],
   "source": []
  },
  {
   "cell_type": "code",
   "execution_count": null,
   "metadata": {},
   "outputs": [],
   "source": []
  }
 ],
 "metadata": {
  "interpreter": {
   "hash": "36cf16204b8548560b1c020c4e8fb5b57f0e4c58016f52f2d4be01e192833930"
  },
  "kernelspec": {
   "display_name": "Python 3.9.0 64-bit",
   "language": "python",
   "name": "python3"
  },
  "language_info": {
   "codemirror_mode": {
    "name": "ipython",
    "version": 3
   },
   "file_extension": ".py",
   "mimetype": "text/x-python",
   "name": "python",
   "nbconvert_exporter": "python",
   "pygments_lexer": "ipython3",
   "version": "3.9.0"
  },
  "orig_nbformat": 4
 },
 "nbformat": 4,
 "nbformat_minor": 2
}
